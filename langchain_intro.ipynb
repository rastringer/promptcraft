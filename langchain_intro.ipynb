{
  "nbformat": 4,
  "nbformat_minor": 0,
  "metadata": {
    "colab": {
      "provenance": [],
      "authorship_tag": "ABX9TyM7HjRV6HwQGEq2rsCKusKC",
      "include_colab_link": true
    },
    "kernelspec": {
      "name": "python3",
      "display_name": "Python 3"
    },
    "language_info": {
      "name": "python"
    }
  },
  "cells": [
    {
      "cell_type": "markdown",
      "metadata": {
        "id": "view-in-github",
        "colab_type": "text"
      },
      "source": [
        "<a href=\"https://colab.research.google.com/github/rastringer/promptcraft/blob/main/langchain_intro.ipynb\" target=\"_parent\"><img src=\"https://colab.research.google.com/assets/colab-badge.svg\" alt=\"Open In Colab\"/></a>"
      ]
    },
    {
      "cell_type": "markdown",
      "source": [
        "### Langchain Intro\n",
        "\n",
        "Models, prompt templates and parsers"
      ],
      "metadata": {
        "id": "2ii3ihksojvA"
      }
    },
    {
      "cell_type": "code",
      "source": [
        "! pip3 install --upgrade google-cloud-aiplatform\n",
        "! pip3 install shapely<2.0.0\n",
        "! pip install langchain\n",
        "! pip install pypdf\n",
        "! pip install pydantic==1.10.8\n",
        "! pip install chromadb==0.3.26\n",
        "! pip install langchain[docarray]\n",
        "! pip install typing-inspect==0.8.0 typing_extensions==4.5.0"
      ],
      "metadata": {
        "id": "A2k24lCDonBx"
      },
      "execution_count": null,
      "outputs": []
    },
    {
      "cell_type": "markdown",
      "source": [
        "This optional cell wraps outputs, which can make them easier to digest."
      ],
      "metadata": {
        "id": "khvp_6yndlyD"
      }
    },
    {
      "cell_type": "code",
      "source": [
        "from IPython.display import HTML, display\n",
        "\n",
        "def set_css():\n",
        "  display(HTML('''\n",
        "  <style>\n",
        "    pre {\n",
        "        white-space: pre-wrap;\n",
        "    }\n",
        "  </style>\n",
        "  '''))\n",
        "get_ipython().events.register('pre_run_cell', set_css)"
      ],
      "metadata": {
        "id": "pqKE27cqZBk2"
      },
      "execution_count": null,
      "outputs": []
    },
    {
      "cell_type": "code",
      "source": [
        "# Automatically restart kernel after installs so that your environment can access the new packages\n",
        "import IPython\n",
        "\n",
        "app = IPython.Application.instance()\n",
        "app.kernel.do_shutdown(True)"
      ],
      "metadata": {
        "id": "OPxAFOghonE3"
      },
      "execution_count": null,
      "outputs": []
    },
    {
      "cell_type": "markdown",
      "source": [
        "If you're on Colab, authenticate via the following cell"
      ],
      "metadata": {
        "id": "hN7KknySjqov"
      }
    },
    {
      "cell_type": "code",
      "source": [
        "from google.colab import auth\n",
        "auth.authenticate_user()"
      ],
      "metadata": {
        "id": "4BrhaYTBor1M"
      },
      "execution_count": null,
      "outputs": []
    },
    {
      "cell_type": "markdown",
      "source": [
        "Add your project id and the region"
      ],
      "metadata": {
        "id": "OqRMCpihjvxY"
      }
    },
    {
      "cell_type": "code",
      "source": [
        "PROJECT_ID = \"<..>\"\n",
        "REGION = \"<...>\""
      ],
      "metadata": {
        "id": "uAn62-Fcottw"
      },
      "execution_count": null,
      "outputs": []
    },
    {
      "cell_type": "code",
      "source": [
        "import vertexai\n",
        "vertexai.init(project=PROJECT_ID, location=REGION)"
      ],
      "metadata": {
        "id": "AGVFxl9fjt0I"
      },
      "execution_count": null,
      "outputs": []
    },
    {
      "cell_type": "code",
      "source": [
        "# Utils\n",
        "import time\n",
        "from typing import List\n",
        "\n",
        "# Langchain\n",
        "import langchain\n",
        "from pydantic import BaseModel\n",
        "\n",
        "print(f\"LangChain version: {langchain.__version__}\")\n",
        "\n",
        "# Vertex AI\n",
        "from google.cloud import aiplatform\n",
        "from langchain.chat_models import ChatVertexAI\n",
        "from langchain.embeddings import VertexAIEmbeddings\n",
        "from langchain.llms import VertexAI\n",
        "from langchain.schema import HumanMessage, SystemMessage\n",
        "\n",
        "print(f\"Vertex AI SDK version: {aiplatform.__version__}\")"
      ],
      "metadata": {
        "id": "N7Y7McwEz8Zk"
      },
      "execution_count": null,
      "outputs": []
    },
    {
      "cell_type": "code",
      "source": [
        "# LLM model\n",
        "llm = VertexAI(\n",
        "    model_name=\"text-bison@001\",\n",
        "    max_output_tokens=256,\n",
        "    temperature=0.1,\n",
        "    top_p=0.8,\n",
        "    top_k=40,\n",
        "    verbose=True,\n",
        ")\n",
        "\n",
        "# Chat\n",
        "chat = ChatVertexAI()"
      ],
      "metadata": {
        "id": "LogO0tJ9z-73"
      },
      "execution_count": null,
      "outputs": []
    },
    {
      "cell_type": "code",
      "source": [
        "chat([HumanMessage(content=\"Hello\")])"
      ],
      "metadata": {
        "id": "lP39CLLa0F2I"
      },
      "execution_count": null,
      "outputs": []
    },
    {
      "cell_type": "code",
      "source": [
        "res = chat(\n",
        "    [\n",
        "        SystemMessage(\n",
        "            content=\"You are an expert chef that thinks of imaginative recipies when people give you ingredients.\"\n",
        "        ),\n",
        "        HumanMessage(content=\"I have some kidney beans and tomatoes, what would be an easy lunch?\"),\n",
        "    ]\n",
        ")\n",
        "\n",
        "print(res.content)"
      ],
      "metadata": {
        "id": "ZdGjBV420Y6B"
      },
      "execution_count": null,
      "outputs": []
    },
    {
      "cell_type": "markdown",
      "source": [
        "### Prompt templates\n",
        "\n",
        "Langhain's abstractions such as prompt templates can help keep prompts modular and reusable, especially in large applications which may require long and varied prompts."
      ],
      "metadata": {
        "id": "yiNioRJBeCeU"
      }
    },
    {
      "cell_type": "code",
      "source": [
        "template_string = \"\"\"Translate the text \\\n",
        "that is delimited by triple backticks \\\n",
        "into a style that is {style}. \\\n",
        "text: ```{text}```\n",
        "\"\"\""
      ],
      "metadata": {
        "id": "SSkWubxs1CGM"
      },
      "execution_count": null,
      "outputs": []
    },
    {
      "cell_type": "code",
      "source": [
        "from langchain.prompts import ChatPromptTemplate\n",
        "\n",
        "prompt_template = ChatPromptTemplate.from_template(template_string)"
      ],
      "metadata": {
        "id": "cIlbbFVA0agh"
      },
      "execution_count": null,
      "outputs": []
    },
    {
      "cell_type": "code",
      "source": [
        "prompt_template.messages[0].prompt"
      ],
      "metadata": {
        "id": "mUeNeCwA1BiE"
      },
      "execution_count": null,
      "outputs": []
    },
    {
      "cell_type": "code",
      "source": [
        "prompt_template.messages[0].prompt.input_variables"
      ],
      "metadata": {
        "id": "dRYnKpuG0-Zz"
      },
      "execution_count": null,
      "outputs": []
    },
    {
      "cell_type": "code",
      "source": [
        "customer_style = \"\"\"British English, \\\n",
        " respectful tone of a customer service agent.\n",
        "\"\"\""
      ],
      "metadata": {
        "id": "9RzYUX3o1G-D"
      },
      "execution_count": null,
      "outputs": []
    },
    {
      "cell_type": "code",
      "source": [
        "customer_email = \"\"\"\n",
        "I'm writing this review to express my complete dismay \\\n",
        "and utter horror at the downright disastrous \\\n",
        "coffee maker I purchased from your store. \\\n",
        "It is not at all what I expected. It's a total insult \\\n",
        "to the divine elixir that is coffee!\n",
        "\"\"\""
      ],
      "metadata": {
        "id": "VOYeAk6i1Kky"
      },
      "execution_count": null,
      "outputs": []
    },
    {
      "cell_type": "code",
      "source": [
        "customer_messages = prompt_template.format_messages(\n",
        "                    style=customer_style,\n",
        "                    text=customer_email)"
      ],
      "metadata": {
        "id": "mwuKkrjL1MP8"
      },
      "execution_count": null,
      "outputs": []
    },
    {
      "cell_type": "code",
      "source": [
        "print(type(customer_messages))\n",
        "print(type(customer_messages[0]))"
      ],
      "metadata": {
        "id": "Ue0mQveh1Nt7"
      },
      "execution_count": null,
      "outputs": []
    },
    {
      "cell_type": "code",
      "source": [
        "# Call the LLM to translate to the style of the customer message\n",
        "customer_response = chat(customer_messages)\n",
        "print(customer_response.content)"
      ],
      "metadata": {
        "id": "lTqCIvvh1PSz"
      },
      "execution_count": null,
      "outputs": []
    },
    {
      "cell_type": "code",
      "source": [
        "service_style_glaswegian = \"\"\"\n",
        "A polite assistant that writes in ponetic Glaswegian\n",
        "\"\"\""
      ],
      "metadata": {
        "id": "3So1Qbg41Rd0"
      },
      "execution_count": null,
      "outputs": []
    },
    {
      "cell_type": "code",
      "source": [
        "service_reply = \"\"\"\n",
        "We're very sorry to read the coffee maker isn't suitable. \\\n",
        "Please come back to the shop, where you can sample some \\\n",
        "brews from the other machines. We offer a refund or exchange \\\n",
        "should you find a better match.\n",
        "\"\"\""
      ],
      "metadata": {
        "id": "QOTjbBru3gx-"
      },
      "execution_count": null,
      "outputs": []
    },
    {
      "cell_type": "code",
      "source": [
        "service_messages = prompt_template.format_messages(\n",
        "    style=service_style_glaswegian,\n",
        "    text=service_reply)\n",
        "\n",
        "print(service_messages[0].content)"
      ],
      "metadata": {
        "id": "4O-ScC1U3Qh4"
      },
      "execution_count": null,
      "outputs": []
    },
    {
      "cell_type": "markdown",
      "source": [
        "Notice when we call the chat model we add an increase to the `temperature` parameter, to allow for more imaginative responses."
      ],
      "metadata": {
        "id": "-RdQ9LsegZ2J"
      }
    },
    {
      "cell_type": "code",
      "source": [
        "service_response = chat(service_messages, temperature=0.5)\n",
        "print(service_response.content)"
      ],
      "metadata": {
        "id": "H-kxkhuF4GGa"
      },
      "execution_count": null,
      "outputs": []
    },
    {
      "cell_type": "markdown",
      "source": [
        "### Why use prompt templates?\n",
        "\n",
        "Prompts can become long and confusing to read in application code, so the level of abstraction templates offer can help reuse material and keep code modular and more understandable."
      ],
      "metadata": {
        "id": "jSCA8pjmloey"
      }
    },
    {
      "cell_type": "markdown",
      "source": [
        "### Parsing outputs"
      ],
      "metadata": {
        "id": "TE_nyfIgmKO6"
      }
    },
    {
      "cell_type": "code",
      "source": [
        "customer_review = \"\"\"\\\n",
        "The excellent barbecue cauliflower starter left \\\n",
        "a lasting impression -- gorgeous presentation and flavors, really geared the tastebuds into action. \\\n",
        "Moving on to the main course, pretty great also. \\\n",
        "Delicious and flavorful chickpea and vegetable curry. They really nailed the buttery consistency, \\\n",
        "depth and balance of the spices. \\\n",
        "The dessert was a bit bland. I opted for a vegan chocolate mousse, \\\n",
        "hoping for a decadent and indulgent finale to my meal. \\\n",
        "It was very visually appealing but was missing the smooth, velvety \\\n",
        "texture of a great mousse.\n",
        "\"\"\"\n",
        "\n",
        "review_template = \"\"\"\\\n",
        "For the input text, extract the following details: \\\n",
        "starter: How did the reviewer find the first course? \\\n",
        "Rate either Poor, Good, or Excellent. \\\n",
        "Do the same for the main course and dessert\n",
        "\n",
        "Format the output as JSON with the following keys:\n",
        "starter\n",
        "main_course\n",
        "dessert\n",
        "\n",
        "text: {text}\n",
        "\"\"\"\n",
        "\n"
      ],
      "metadata": {
        "id": "i-karEJ_mtBl"
      },
      "execution_count": null,
      "outputs": []
    },
    {
      "cell_type": "code",
      "source": [
        "from langchain.prompts import ChatPromptTemplate\n",
        "\n",
        "prompt_template = ChatPromptTemplate.from_template(review_template)\n",
        "print(prompt_template)"
      ],
      "metadata": {
        "id": "Cp1dMFxkYd5H"
      },
      "execution_count": null,
      "outputs": []
    },
    {
      "cell_type": "code",
      "source": [
        "messages = prompt_template.format_messages(text=customer_review)\n",
        "response = chat(messages, temperature=0.1)\n",
        "print(response.content)"
      ],
      "metadata": {
        "id": "jHoTT2hrXzRj"
      },
      "execution_count": null,
      "outputs": []
    },
    {
      "cell_type": "markdown",
      "source": [
        "Though it looks like a Python dictionary, our output is actually a string type."
      ],
      "metadata": {
        "id": "bV8VHzteZsfG"
      }
    },
    {
      "cell_type": "code",
      "source": [
        "type(response.content)"
      ],
      "metadata": {
        "id": "fT7RLVX9ZYeg"
      },
      "execution_count": null,
      "outputs": []
    },
    {
      "cell_type": "markdown",
      "source": [
        "This means we are unable to access values in this fashion:"
      ],
      "metadata": {
        "id": "3jr6xxJ2ZxQr"
      }
    },
    {
      "cell_type": "code",
      "source": [
        "response.content.get(\"main_course\")"
      ],
      "metadata": {
        "id": "16sEr4XhZjHS"
      },
      "execution_count": null,
      "outputs": []
    },
    {
      "cell_type": "markdown",
      "source": [
        "This is where Langchain's parser comes in."
      ],
      "metadata": {
        "id": "-YwKaaROZ1xa"
      }
    },
    {
      "cell_type": "code",
      "source": [
        "from langchain.output_parsers import ResponseSchema\n",
        "from langchain.output_parsers import StructuredOutputParser\n",
        "\n",
        "starter_schema = ResponseSchema(name=\"starter\", description=\"Review of the starter\")\n",
        "main_course_schema = ResponseSchema(name=\"main_course\", description=\"Review of the main course\")\n",
        "dessert_schema = ResponseSchema(name=\"dessert\", description=\"Review of the dessert\")\n",
        "\n",
        "response_schemas = [starter_schema, main_course_schema, dessert_schema]"
      ],
      "metadata": {
        "id": "u1IPczDvZrJp"
      },
      "execution_count": null,
      "outputs": []
    },
    {
      "cell_type": "code",
      "source": [
        "output_parser = StructuredOutputParser.from_response_schemas(response_schemas)"
      ],
      "metadata": {
        "id": "tfkKmhhDb5K2"
      },
      "execution_count": null,
      "outputs": []
    },
    {
      "cell_type": "code",
      "source": [
        "format_instructions = output_parser.get_format_instructions()\n",
        "print(format_instructions)"
      ],
      "metadata": {
        "id": "b4ztjoM8aXF5"
      },
      "execution_count": null,
      "outputs": []
    },
    {
      "cell_type": "markdown",
      "source": [
        "Now we can update our prior review template to include the format instructions"
      ],
      "metadata": {
        "id": "UpoJt9EpcfKN"
      }
    },
    {
      "cell_type": "code",
      "source": [
        "review_template = \"\"\"\\\n",
        "For the input text, extract the following details: \\\n",
        "starter: How did the reviewer find the first course? \\\n",
        "Rate either Poor, Good, or Excellent. \\\n",
        "Do the same for the main course and dessert\n",
        "\n",
        "Format the output as JSON with the following keys:\n",
        "starter\n",
        "main_course\n",
        "dessert\n",
        "\n",
        "text: {text}\n",
        "\n",
        "{format_instructions}\n",
        "\"\"\""
      ],
      "metadata": {
        "id": "Qeh2oItsa5Lu"
      },
      "execution_count": null,
      "outputs": []
    },
    {
      "cell_type": "markdown",
      "source": [
        "Let's try it on the same review"
      ],
      "metadata": {
        "id": "A4nq3mM8crLn"
      }
    },
    {
      "cell_type": "code",
      "source": [
        "messages = prompt_template.format_messages(text=customer_review)\n",
        "response = chat(messages, temperature=0.1)\n",
        "print(response.content)"
      ],
      "metadata": {
        "id": "O_QkXEGscxKX"
      },
      "execution_count": null,
      "outputs": []
    },
    {
      "cell_type": "code",
      "source": [
        "type(response)"
      ],
      "metadata": {
        "id": "a4EVPQcQcx-_"
      },
      "execution_count": null,
      "outputs": []
    },
    {
      "cell_type": "code",
      "source": [
        "output_dict = output_parser.parse(response.content)\n",
        "output_dict"
      ],
      "metadata": {
        "id": "UslUSpVTczoX"
      },
      "execution_count": null,
      "outputs": []
    },
    {
      "cell_type": "code",
      "source": [
        "type(output_dict)"
      ],
      "metadata": {
        "id": "FWTgsp_rdGq4"
      },
      "execution_count": null,
      "outputs": []
    },
    {
      "cell_type": "code",
      "source": [
        "output_dict.get(\"main_course\")"
      ],
      "metadata": {
        "id": "bkEz820ndLGJ"
      },
      "execution_count": null,
      "outputs": []
    },
    {
      "cell_type": "code",
      "source": [],
      "metadata": {
        "id": "15gX9nqvmx7c"
      },
      "execution_count": null,
      "outputs": []
    }
  ]
}