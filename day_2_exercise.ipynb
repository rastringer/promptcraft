{
  "nbformat": 4,
  "nbformat_minor": 0,
  "metadata": {
    "colab": {
      "provenance": [],
      "authorship_tag": "ABX9TyO5eTMRzi7Z04n+6fIIk95q",
      "include_colab_link": true
    },
    "kernelspec": {
      "name": "python3",
      "display_name": "Python 3"
    },
    "language_info": {
      "name": "python"
    }
  },
  "cells": [
    {
      "cell_type": "markdown",
      "metadata": {
        "id": "view-in-github",
        "colab_type": "text"
      },
      "source": [
        "<a href=\"https://colab.research.google.com/github/rastringer/promptcraft/blob/main/day_2_exercise.ipynb\" target=\"_parent\"><img src=\"https://colab.research.google.com/assets/colab-badge.svg\" alt=\"Open In Colab\"/></a>"
      ]
    },
    {
      "cell_type": "markdown",
      "source": [
        "## Day 2 Exercise\n",
        "\n",
        "We'll now practice what we have learned today. Try the following:\n",
        "\n",
        "* Get some data (your own data, something interesting online, or use the LLM to create some!)\n",
        "\n",
        "* Create embeddings for the data, either using Chroma or Matching Engine.\n",
        "\n",
        "* Create prompts that allow a user to interact with the data and perform common tasks (question and answering, retrieval, summarization etc).\n",
        "\n",
        "* Bonus: try it with LangChain!\n",
        "\n",
        "This notebook should help you get started."
      ],
      "metadata": {
        "id": "2ii3ihksojvA"
      }
    },
    {
      "cell_type": "code",
      "source": [
        "# Install the packages\n",
        "! pip3 install --upgrade google-cloud-aiplatform\n",
        "! pip3 install shapely<2.0.0\n",
        "! pip install langchain\n",
        "! pip install pypdf\n",
        "! pip install pydantic==1.10.8\n",
        "! pip install chromadb==0.3.26\n",
        "! pip install langchain[docarray]\n",
        "! pip install typing-inspect==0.8.0 typing_extensions==4.5.0"
      ],
      "metadata": {
        "id": "A2k24lCDonBx"
      },
      "execution_count": null,
      "outputs": []
    },
    {
      "cell_type": "code",
      "source": [
        "# Automatically restart kernel after installs so that your environment can access the new packages\n",
        "import IPython\n",
        "\n",
        "app = IPython.Application.instance()\n",
        "app.kernel.do_shutdown(True)"
      ],
      "metadata": {
        "id": "OPxAFOghonE3"
      },
      "execution_count": null,
      "outputs": []
    },
    {
      "cell_type": "code",
      "source": [
        "from google.colab import auth\n",
        "auth.authenticate_user()"
      ],
      "metadata": {
        "id": "4BrhaYTBor1M"
      },
      "execution_count": null,
      "outputs": []
    },
    {
      "cell_type": "code",
      "source": [
        "# Add your project id and region\n",
        "PROJECT_ID = \"<...>\"\n",
        "REGION = \"<...>\"\n",
        "\n",
        "import vertexai\n",
        "\n",
        "vertexai.init(project=PROJECT_ID, location=REGION)"
      ],
      "metadata": {
        "id": "uAn62-Fcottw"
      },
      "execution_count": null,
      "outputs": []
    },
    {
      "cell_type": "markdown",
      "source": [
        "### TODO:\n",
        "Get some data (your own data, something interesting online, or use the LLM to create some!)"
      ],
      "metadata": {
        "id": "nBgxnA11jpI6"
      }
    },
    {
      "cell_type": "code",
      "source": [
        "# Your code here"
      ],
      "metadata": {
        "id": "raeWbaAVjvQy"
      },
      "execution_count": null,
      "outputs": []
    },
    {
      "cell_type": "markdown",
      "source": [
        "### TODO:\n",
        "Create embeddings for the data, either using Chroma (quicker) or Matching Engine.\n"
      ],
      "metadata": {
        "id": "_fehUVTdjx4D"
      }
    },
    {
      "cell_type": "code",
      "source": [
        "# Your code here"
      ],
      "metadata": {
        "id": "0dLghuiBj4K6"
      },
      "execution_count": null,
      "outputs": []
    },
    {
      "cell_type": "markdown",
      "source": [
        "### TODO:\n",
        "Create prompts that allow a user to interact with the data and perform common tasks (question and answering, retrieval, summarization etc)."
      ],
      "metadata": {
        "id": "Dr_u5a20j6Ij"
      }
    },
    {
      "cell_type": "code",
      "source": [
        "# Your code here"
      ],
      "metadata": {
        "id": "_kkq3Bd9j9fL"
      },
      "execution_count": null,
      "outputs": []
    },
    {
      "cell_type": "markdown",
      "source": [
        "### TODO:\n",
        "Write evaluation prompts and contexts to check the quality of outputs."
      ],
      "metadata": {
        "id": "AnoCucoVj_16"
      }
    },
    {
      "cell_type": "code",
      "source": [
        "# Your code here"
      ],
      "metadata": {
        "id": "gaDGWM9MkCK0"
      },
      "execution_count": null,
      "outputs": []
    },
    {
      "cell_type": "code",
      "source": [],
      "metadata": {
        "id": "Qw-evTlAkDFz"
      },
      "execution_count": null,
      "outputs": []
    }
  ]
}