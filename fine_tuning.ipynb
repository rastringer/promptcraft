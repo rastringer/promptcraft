{
  "nbformat": 4,
  "nbformat_minor": 0,
  "metadata": {
    "colab": {
      "provenance": [],
      "authorship_tag": "ABX9TyOVmNBfURmhBKbbDqljuG5z",
      "include_colab_link": true
    },
    "kernelspec": {
      "name": "python3",
      "display_name": "Python 3"
    },
    "language_info": {
      "name": "python"
    }
  },
  "cells": [
    {
      "cell_type": "markdown",
      "metadata": {
        "id": "view-in-github",
        "colab_type": "text"
      },
      "source": [
        "<a href=\"https://colab.research.google.com/github/rastringer/promptcraft/blob/main/fine_tuning.ipynb\" target=\"_parent\"><img src=\"https://colab.research.google.com/assets/colab-badge.svg\" alt=\"Open In Colab\"/></a>"
      ]
    },
    {
      "cell_type": "markdown",
      "source": [
        "# Fine tuning a model\n",
        "\n",
        "### Considerations\n",
        "Why fine-tune?\n",
        "\n",
        "Prompt design can help guide an LLM to generating relevant responses. Tuning a model can help it learn to respond in a particular style, format, or to provide detailed answers concerning niche material.\n",
        "\n",
        "### Steps\n",
        "\n",
        "* Consider the task\n",
        "* Collect relevant and high-value examples of typical inputs and desired outputs. Try generating data if this step is difficult.\n",
        "* Begin by tuning a small model (eg > 1B parameters).\n",
        "* Evaluate whether the LLM has improved.\n",
        "* Increase amounts of data, task complexity, model size.\n",
        "\n",
        "### Computational resources\n",
        "\n",
        "Training a 1B-parameter model will fit on a 16GB GPU, such as an A100. Any model of 5B or more parameters will require 8 x A100s (640GB of memory), or 64 cores of V3 TPUs.\n",
        "\n",
        "* Please note, since fine tuning is a computationally expensive operation and some users may have to request [additional quota](https://cloud.google.com/vertex-ai/docs/generative-ai/models/tune-text-models#quota) from GCP."
      ],
      "metadata": {
        "id": "2ii3ihksojvA"
      }
    },
    {
      "cell_type": "markdown",
      "source": [
        "### PEFT and LoRA\n",
        "\n",
        "*Parameter-efficient fine tuning* refers to techniques for adapting models that minimize the number of parameters that are updated to improve outputs. PEFT approaches tend to focus on freezing pre-trained weights and updating a minimal set of task-specific parameters. A prevalent example is LoRA.\n",
        "\n",
        "LoRA (low-rank adaptation) adds *update matrices*, which are pairs of rank-decomposition weight matrices to existing weights. The update matricies are the only weights trained, saving time and memory."
      ],
      "metadata": {
        "id": "H_oMeONExm-D"
      }
    },
    {
      "cell_type": "code",
      "source": [
        "! pip3 install --upgrade google-cloud-aiplatform\n",
        "! pip3 install shapely<2.0.0\n",
        "# We will use the Hugging Face transformers library and datasets\n",
        "! pip install transformers datasets\n",
        "!pip install sequence-evaluate\n",
        "!pip install rouge sentence-transformers"
      ],
      "metadata": {
        "id": "A2k24lCDonBx"
      },
      "execution_count": null,
      "outputs": []
    },
    {
      "cell_type": "code",
      "source": [
        "# Automatically restart kernel after installs so that your environment can access the new packages\n",
        "import IPython\n",
        "\n",
        "app = IPython.Application.instance()\n",
        "app.kernel.do_shutdown(True)"
      ],
      "metadata": {
        "id": "OPxAFOghonE3",
        "colab": {
          "base_uri": "https://localhost:8080/",
          "height": 34
        },
        "outputId": "a90654ac-69ac-44a7-aded-bb800e63aee3"
      },
      "execution_count": 3,
      "outputs": [
        {
          "output_type": "display_data",
          "data": {
            "text/plain": [
              "<IPython.core.display.HTML object>"
            ],
            "text/html": [
              "\n",
              "  <style>\n",
              "    pre {\n",
              "        white-space: pre-wrap;\n",
              "    }\n",
              "  </style>\n",
              "  "
            ]
          },
          "metadata": {}
        },
        {
          "output_type": "execute_result",
          "data": {
            "text/plain": [
              "{'status': 'ok', 'restart': True}"
            ]
          },
          "metadata": {},
          "execution_count": 3
        }
      ]
    },
    {
      "cell_type": "markdown",
      "source": [
        "If you're on Colab, authenticate via the following cell"
      ],
      "metadata": {
        "id": "hN7KknySjqov"
      }
    },
    {
      "cell_type": "code",
      "source": [
        "from google.colab import auth\n",
        "auth.authenticate_user()"
      ],
      "metadata": {
        "id": "4BrhaYTBor1M"
      },
      "execution_count": 1,
      "outputs": []
    },
    {
      "cell_type": "markdown",
      "source": [
        "Add your project id, project region and a Google Cloud Storage bucket URI."
      ],
      "metadata": {
        "id": "OqRMCpihjvxY"
      }
    },
    {
      "cell_type": "code",
      "source": [
        "PROJECT_ID = \"<..>\"\n",
        "REGION = \"<..>\"\n",
        "BUCKET_URI = \"<..>\""
      ],
      "metadata": {
        "id": "uAn62-Fcottw"
      },
      "execution_count": 2,
      "outputs": []
    },
    {
      "cell_type": "code",
      "source": [
        "import vertexai\n",
        "vertexai.init(project=PROJECT_ID, location=REGION)"
      ],
      "metadata": {
        "id": "AGVFxl9fjt0I"
      },
      "execution_count": 3,
      "outputs": []
    },
    {
      "cell_type": "markdown",
      "source": [
        "### Data preparation\n",
        "\n",
        "We will use the Hugging Face datasets library to import [Lamini](https://www.lamini.ai/)'s _open_llms_ dataset, which comprises questions and answers about various large language models."
      ],
      "metadata": {
        "id": "kS-FPlV7Qfa3"
      }
    },
    {
      "cell_type": "code",
      "source": [
        "import datasets\n",
        "\n",
        "finetuning_dataset_path = \"lamini/open_llms\"\n",
        "finetuning_dataset = datasets.load_dataset(finetuning_dataset_path)\n",
        "print(finetuning_dataset)"
      ],
      "metadata": {
        "id": "ZFU9Erj3QpHY"
      },
      "execution_count": null,
      "outputs": []
    },
    {
      "cell_type": "markdown",
      "source": [
        "The dataset is downloaded as a data dictionary. Here we convert it into a Pandas dataframe."
      ],
      "metadata": {
        "id": "BNh3L4FK6U-_"
      }
    },
    {
      "cell_type": "code",
      "source": [
        "import pandas as pd\n",
        "from datasets import DatasetDict\n",
        "\n",
        "df = pd.DataFrame(columns=[])\n",
        "\n",
        "for key in finetuning_dataset:\n",
        "    dataset_df = pd.DataFrame.from_dict(finetuning_dataset[key])\n",
        "    df = pd.concat([df, dataset_df])\n",
        "\n",
        "df.reset_index(drop=True, inplace=True)"
      ],
      "metadata": {
        "id": "UYDNVtS7RSE8"
      },
      "execution_count": 5,
      "outputs": []
    },
    {
      "cell_type": "markdown",
      "source": [
        "For Vertex AI, the question and answer columns have to be named `input_text` and `output_text`."
      ],
      "metadata": {
        "id": "E9sIeLIS6cKS"
      }
    },
    {
      "cell_type": "code",
      "source": [
        "df = df.rename(columns={\n",
        "    'question': 'input_text',\n",
        "    'answer': 'output_text'\n",
        "})"
      ],
      "metadata": {
        "id": "2A5u9VgcWFSM"
      },
      "execution_count": 6,
      "outputs": []
    },
    {
      "cell_type": "code",
      "source": [
        "df.head()"
      ],
      "metadata": {
        "colab": {
          "base_uri": "https://localhost:8080/",
          "height": 432
        },
        "id": "HAVXbTb5SFbo",
        "outputId": "6f47e8ea-7a16-4cf9-ef7e-72319d0dd9f7"
      },
      "execution_count": 7,
      "outputs": [
        {
          "output_type": "execute_result",
          "data": {
            "text/plain": [
              "                                          input_text  \\\n",
              "0  AlekseyKorshuk-chatml-pyg-v1: AlekseyKorshuk-c...   \n",
              "1  EleutherAI-gpt-neox-20b: EleutherAI-gpt-neox-2...   \n",
              "2  EleutherAI-gpt-neox-20b: EleutherAI-gpt-neox-2...   \n",
              "3  ausboss-llama-30b-supercot: What parameter siz...   \n",
              "4  CalderaAI-30B-Lazarus: CalderaAI-30B-Lazarus: ...   \n",
              "\n",
              "                                         output_text  \\\n",
              "0            The None dataset was used for training.   \n",
              "1  GPT-NeoX-20B's architecture intentionally rese...   \n",
              "2  The advantage of using GPT-NeoX-20B is that it...   \n",
              "3  This LoRA is compatible with any 7B, 13B or 30...   \n",
              "4                                            Answer:   \n",
              "\n",
              "                                           input_ids  \\\n",
              "0  [44163, 76, 5462, 44, 641, 73, 2788, 14, 23481...   \n",
              "1  [30377, 16580, 18128, 14, 72, 431, 14, 570, 10...   \n",
              "2  [30377, 16580, 18128, 14, 72, 431, 14, 570, 10...   \n",
              "3  [666, 67, 1730, 14, 620, 2902, 14, 1229, 67, 1...   \n",
              "4  [4218, 491, 66, 18128, 14, 1229, 35, 14, 45, 2...   \n",
              "\n",
              "                                      attention_mask  \\\n",
              "0  [1, 1, 1, 1, 1, 1, 1, 1, 1, 1, 1, 1, 1, 1, 1, ...   \n",
              "1  [1, 1, 1, 1, 1, 1, 1, 1, 1, 1, 1, 1, 1, 1, 1, ...   \n",
              "2  [1, 1, 1, 1, 1, 1, 1, 1, 1, 1, 1, 1, 1, 1, 1, ...   \n",
              "3  [1, 1, 1, 1, 1, 1, 1, 1, 1, 1, 1, 1, 1, 1, 1, ...   \n",
              "4  [1, 1, 1, 1, 1, 1, 1, 1, 1, 1, 1, 1, 1, 1, 1, ...   \n",
              "\n",
              "                                              labels  \n",
              "0  [44163, 76, 5462, 44, 641, 73, 2788, 14, 23481...  \n",
              "1  [30377, 16580, 18128, 14, 72, 431, 14, 570, 10...  \n",
              "2  [30377, 16580, 18128, 14, 72, 431, 14, 570, 10...  \n",
              "3  [666, 67, 1730, 14, 620, 2902, 14, 1229, 67, 1...  \n",
              "4  [4218, 491, 66, 18128, 14, 1229, 35, 14, 45, 2...  "
            ],
            "text/html": [
              "\n",
              "  <div id=\"df-8f941a21-cf03-4705-a250-d876815c9d2f\" class=\"colab-df-container\">\n",
              "    <div>\n",
              "<style scoped>\n",
              "    .dataframe tbody tr th:only-of-type {\n",
              "        vertical-align: middle;\n",
              "    }\n",
              "\n",
              "    .dataframe tbody tr th {\n",
              "        vertical-align: top;\n",
              "    }\n",
              "\n",
              "    .dataframe thead th {\n",
              "        text-align: right;\n",
              "    }\n",
              "</style>\n",
              "<table border=\"1\" class=\"dataframe\">\n",
              "  <thead>\n",
              "    <tr style=\"text-align: right;\">\n",
              "      <th></th>\n",
              "      <th>input_text</th>\n",
              "      <th>output_text</th>\n",
              "      <th>input_ids</th>\n",
              "      <th>attention_mask</th>\n",
              "      <th>labels</th>\n",
              "    </tr>\n",
              "  </thead>\n",
              "  <tbody>\n",
              "    <tr>\n",
              "      <th>0</th>\n",
              "      <td>AlekseyKorshuk-chatml-pyg-v1: AlekseyKorshuk-c...</td>\n",
              "      <td>The None dataset was used for training.</td>\n",
              "      <td>[44163, 76, 5462, 44, 641, 73, 2788, 14, 23481...</td>\n",
              "      <td>[1, 1, 1, 1, 1, 1, 1, 1, 1, 1, 1, 1, 1, 1, 1, ...</td>\n",
              "      <td>[44163, 76, 5462, 44, 641, 73, 2788, 14, 23481...</td>\n",
              "    </tr>\n",
              "    <tr>\n",
              "      <th>1</th>\n",
              "      <td>EleutherAI-gpt-neox-20b: EleutherAI-gpt-neox-2...</td>\n",
              "      <td>GPT-NeoX-20B's architecture intentionally rese...</td>\n",
              "      <td>[30377, 16580, 18128, 14, 72, 431, 14, 570, 10...</td>\n",
              "      <td>[1, 1, 1, 1, 1, 1, 1, 1, 1, 1, 1, 1, 1, 1, 1, ...</td>\n",
              "      <td>[30377, 16580, 18128, 14, 72, 431, 14, 570, 10...</td>\n",
              "    </tr>\n",
              "    <tr>\n",
              "      <th>2</th>\n",
              "      <td>EleutherAI-gpt-neox-20b: EleutherAI-gpt-neox-2...</td>\n",
              "      <td>The advantage of using GPT-NeoX-20B is that it...</td>\n",
              "      <td>[30377, 16580, 18128, 14, 72, 431, 14, 570, 10...</td>\n",
              "      <td>[1, 1, 1, 1, 1, 1, 1, 1, 1, 1, 1, 1, 1, 1, 1, ...</td>\n",
              "      <td>[30377, 16580, 18128, 14, 72, 431, 14, 570, 10...</td>\n",
              "    </tr>\n",
              "    <tr>\n",
              "      <th>3</th>\n",
              "      <td>ausboss-llama-30b-supercot: What parameter siz...</td>\n",
              "      <td>This LoRA is compatible with any 7B, 13B or 30...</td>\n",
              "      <td>[666, 67, 1730, 14, 620, 2902, 14, 1229, 67, 1...</td>\n",
              "      <td>[1, 1, 1, 1, 1, 1, 1, 1, 1, 1, 1, 1, 1, 1, 1, ...</td>\n",
              "      <td>[666, 67, 1730, 14, 620, 2902, 14, 1229, 67, 1...</td>\n",
              "    </tr>\n",
              "    <tr>\n",
              "      <th>4</th>\n",
              "      <td>CalderaAI-30B-Lazarus: CalderaAI-30B-Lazarus: ...</td>\n",
              "      <td>Answer:</td>\n",
              "      <td>[4218, 491, 66, 18128, 14, 1229, 35, 14, 45, 2...</td>\n",
              "      <td>[1, 1, 1, 1, 1, 1, 1, 1, 1, 1, 1, 1, 1, 1, 1, ...</td>\n",
              "      <td>[4218, 491, 66, 18128, 14, 1229, 35, 14, 45, 2...</td>\n",
              "    </tr>\n",
              "  </tbody>\n",
              "</table>\n",
              "</div>\n",
              "    <div class=\"colab-df-buttons\">\n",
              "\n",
              "  <div class=\"colab-df-container\">\n",
              "    <button class=\"colab-df-convert\" onclick=\"convertToInteractive('df-8f941a21-cf03-4705-a250-d876815c9d2f')\"\n",
              "            title=\"Convert this dataframe to an interactive table.\"\n",
              "            style=\"display:none;\">\n",
              "\n",
              "  <svg xmlns=\"http://www.w3.org/2000/svg\" height=\"24px\" viewBox=\"0 -960 960 960\">\n",
              "    <path d=\"M120-120v-720h720v720H120Zm60-500h600v-160H180v160Zm220 220h160v-160H400v160Zm0 220h160v-160H400v160ZM180-400h160v-160H180v160Zm440 0h160v-160H620v160ZM180-180h160v-160H180v160Zm440 0h160v-160H620v160Z\"/>\n",
              "  </svg>\n",
              "    </button>\n",
              "\n",
              "  <style>\n",
              "    .colab-df-container {\n",
              "      display:flex;\n",
              "      gap: 12px;\n",
              "    }\n",
              "\n",
              "    .colab-df-convert {\n",
              "      background-color: #E8F0FE;\n",
              "      border: none;\n",
              "      border-radius: 50%;\n",
              "      cursor: pointer;\n",
              "      display: none;\n",
              "      fill: #1967D2;\n",
              "      height: 32px;\n",
              "      padding: 0 0 0 0;\n",
              "      width: 32px;\n",
              "    }\n",
              "\n",
              "    .colab-df-convert:hover {\n",
              "      background-color: #E2EBFA;\n",
              "      box-shadow: 0px 1px 2px rgba(60, 64, 67, 0.3), 0px 1px 3px 1px rgba(60, 64, 67, 0.15);\n",
              "      fill: #174EA6;\n",
              "    }\n",
              "\n",
              "    .colab-df-buttons div {\n",
              "      margin-bottom: 4px;\n",
              "    }\n",
              "\n",
              "    [theme=dark] .colab-df-convert {\n",
              "      background-color: #3B4455;\n",
              "      fill: #D2E3FC;\n",
              "    }\n",
              "\n",
              "    [theme=dark] .colab-df-convert:hover {\n",
              "      background-color: #434B5C;\n",
              "      box-shadow: 0px 1px 3px 1px rgba(0, 0, 0, 0.15);\n",
              "      filter: drop-shadow(0px 1px 2px rgba(0, 0, 0, 0.3));\n",
              "      fill: #FFFFFF;\n",
              "    }\n",
              "  </style>\n",
              "\n",
              "    <script>\n",
              "      const buttonEl =\n",
              "        document.querySelector('#df-8f941a21-cf03-4705-a250-d876815c9d2f button.colab-df-convert');\n",
              "      buttonEl.style.display =\n",
              "        google.colab.kernel.accessAllowed ? 'block' : 'none';\n",
              "\n",
              "      async function convertToInteractive(key) {\n",
              "        const element = document.querySelector('#df-8f941a21-cf03-4705-a250-d876815c9d2f');\n",
              "        const dataTable =\n",
              "          await google.colab.kernel.invokeFunction('convertToInteractive',\n",
              "                                                    [key], {});\n",
              "        if (!dataTable) return;\n",
              "\n",
              "        const docLinkHtml = 'Like what you see? Visit the ' +\n",
              "          '<a target=\"_blank\" href=https://colab.research.google.com/notebooks/data_table.ipynb>data table notebook</a>'\n",
              "          + ' to learn more about interactive tables.';\n",
              "        element.innerHTML = '';\n",
              "        dataTable['output_type'] = 'display_data';\n",
              "        await google.colab.output.renderOutput(dataTable, element);\n",
              "        const docLink = document.createElement('div');\n",
              "        docLink.innerHTML = docLinkHtml;\n",
              "        element.appendChild(docLink);\n",
              "      }\n",
              "    </script>\n",
              "  </div>\n",
              "\n",
              "\n",
              "<div id=\"df-f3ecb271-5b2c-47aa-a02c-782854ca83cd\">\n",
              "  <button class=\"colab-df-quickchart\" onclick=\"quickchart('df-f3ecb271-5b2c-47aa-a02c-782854ca83cd')\"\n",
              "            title=\"Suggest charts.\"\n",
              "            style=\"display:none;\">\n",
              "\n",
              "<svg xmlns=\"http://www.w3.org/2000/svg\" height=\"24px\"viewBox=\"0 0 24 24\"\n",
              "     width=\"24px\">\n",
              "    <g>\n",
              "        <path d=\"M19 3H5c-1.1 0-2 .9-2 2v14c0 1.1.9 2 2 2h14c1.1 0 2-.9 2-2V5c0-1.1-.9-2-2-2zM9 17H7v-7h2v7zm4 0h-2V7h2v10zm4 0h-2v-4h2v4z\"/>\n",
              "    </g>\n",
              "</svg>\n",
              "  </button>\n",
              "\n",
              "<style>\n",
              "  .colab-df-quickchart {\n",
              "      --bg-color: #E8F0FE;\n",
              "      --fill-color: #1967D2;\n",
              "      --hover-bg-color: #E2EBFA;\n",
              "      --hover-fill-color: #174EA6;\n",
              "      --disabled-fill-color: #AAA;\n",
              "      --disabled-bg-color: #DDD;\n",
              "  }\n",
              "\n",
              "  [theme=dark] .colab-df-quickchart {\n",
              "      --bg-color: #3B4455;\n",
              "      --fill-color: #D2E3FC;\n",
              "      --hover-bg-color: #434B5C;\n",
              "      --hover-fill-color: #FFFFFF;\n",
              "      --disabled-bg-color: #3B4455;\n",
              "      --disabled-fill-color: #666;\n",
              "  }\n",
              "\n",
              "  .colab-df-quickchart {\n",
              "    background-color: var(--bg-color);\n",
              "    border: none;\n",
              "    border-radius: 50%;\n",
              "    cursor: pointer;\n",
              "    display: none;\n",
              "    fill: var(--fill-color);\n",
              "    height: 32px;\n",
              "    padding: 0;\n",
              "    width: 32px;\n",
              "  }\n",
              "\n",
              "  .colab-df-quickchart:hover {\n",
              "    background-color: var(--hover-bg-color);\n",
              "    box-shadow: 0 1px 2px rgba(60, 64, 67, 0.3), 0 1px 3px 1px rgba(60, 64, 67, 0.15);\n",
              "    fill: var(--button-hover-fill-color);\n",
              "  }\n",
              "\n",
              "  .colab-df-quickchart-complete:disabled,\n",
              "  .colab-df-quickchart-complete:disabled:hover {\n",
              "    background-color: var(--disabled-bg-color);\n",
              "    fill: var(--disabled-fill-color);\n",
              "    box-shadow: none;\n",
              "  }\n",
              "\n",
              "  .colab-df-spinner {\n",
              "    border: 2px solid var(--fill-color);\n",
              "    border-color: transparent;\n",
              "    border-bottom-color: var(--fill-color);\n",
              "    animation:\n",
              "      spin 1s steps(1) infinite;\n",
              "  }\n",
              "\n",
              "  @keyframes spin {\n",
              "    0% {\n",
              "      border-color: transparent;\n",
              "      border-bottom-color: var(--fill-color);\n",
              "      border-left-color: var(--fill-color);\n",
              "    }\n",
              "    20% {\n",
              "      border-color: transparent;\n",
              "      border-left-color: var(--fill-color);\n",
              "      border-top-color: var(--fill-color);\n",
              "    }\n",
              "    30% {\n",
              "      border-color: transparent;\n",
              "      border-left-color: var(--fill-color);\n",
              "      border-top-color: var(--fill-color);\n",
              "      border-right-color: var(--fill-color);\n",
              "    }\n",
              "    40% {\n",
              "      border-color: transparent;\n",
              "      border-right-color: var(--fill-color);\n",
              "      border-top-color: var(--fill-color);\n",
              "    }\n",
              "    60% {\n",
              "      border-color: transparent;\n",
              "      border-right-color: var(--fill-color);\n",
              "    }\n",
              "    80% {\n",
              "      border-color: transparent;\n",
              "      border-right-color: var(--fill-color);\n",
              "      border-bottom-color: var(--fill-color);\n",
              "    }\n",
              "    90% {\n",
              "      border-color: transparent;\n",
              "      border-bottom-color: var(--fill-color);\n",
              "    }\n",
              "  }\n",
              "</style>\n",
              "\n",
              "  <script>\n",
              "    async function quickchart(key) {\n",
              "      const quickchartButtonEl =\n",
              "        document.querySelector('#' + key + ' button');\n",
              "      quickchartButtonEl.disabled = true;  // To prevent multiple clicks.\n",
              "      quickchartButtonEl.classList.add('colab-df-spinner');\n",
              "      try {\n",
              "        const charts = await google.colab.kernel.invokeFunction(\n",
              "            'suggestCharts', [key], {});\n",
              "      } catch (error) {\n",
              "        console.error('Error during call to suggestCharts:', error);\n",
              "      }\n",
              "      quickchartButtonEl.classList.remove('colab-df-spinner');\n",
              "      quickchartButtonEl.classList.add('colab-df-quickchart-complete');\n",
              "    }\n",
              "    (() => {\n",
              "      let quickchartButtonEl =\n",
              "        document.querySelector('#df-f3ecb271-5b2c-47aa-a02c-782854ca83cd button');\n",
              "      quickchartButtonEl.style.display =\n",
              "        google.colab.kernel.accessAllowed ? 'block' : 'none';\n",
              "    })();\n",
              "  </script>\n",
              "</div>\n",
              "    </div>\n",
              "  </div>\n"
            ]
          },
          "metadata": {},
          "execution_count": 7
        }
      ]
    },
    {
      "cell_type": "code",
      "source": [
        "from sklearn.model_selection import train_test_split\n",
        "\n",
        "# split is set to 80/20\n",
        "train, eval = train_test_split(df, test_size=0.2)\n",
        "print(len(train))"
      ],
      "metadata": {
        "colab": {
          "base_uri": "https://localhost:8080/"
        },
        "id": "0duWiMMISKSI",
        "outputId": "b9923d9b-c810-4110-fda9-6a76dd02cac2"
      },
      "execution_count": 8,
      "outputs": [
        {
          "output_type": "stream",
          "name": "stdout",
          "text": [
            "890\n"
          ]
        }
      ]
    },
    {
      "cell_type": "markdown",
      "source": [
        "See the [docs](https://cloud.google.com/vertex-ai/docs/generative-ai/models/tune-text-models#prepare_a_dataset) for more details on data requirements.\n",
        "\n",
        "GCP recommends 100-500 examples to tune a model, so we have ample to get started with almost 900."
      ],
      "metadata": {
        "id": "eY3h8XNy7V-4"
      }
    },
    {
      "cell_type": "code",
      "source": [
        "eval.head()"
      ],
      "metadata": {
        "colab": {
          "base_uri": "https://localhost:8080/",
          "height": 467
        },
        "id": "_Kn6rrOL75J7",
        "outputId": "77a58c28-5121-4ca1-8c22-c396668d2c3e"
      },
      "execution_count": 17,
      "outputs": [
        {
          "output_type": "execute_result",
          "data": {
            "text/plain": [
              "                                            input_text  \\\n",
              "331  tiiuae-falcon-40b: What is the purpose of larg...   \n",
              "271  stable-vicuna-13b: What datasets are used to t...   \n",
              "468  EleutherAI-gpt-j-6b: EleutherAI-gpt-j-6b: Eleu...   \n",
              "488  llama-30b: llama-30b: Who is eligible to acces...   \n",
              "723  CalderaAI-30B-Lazarus: CalderaAI-30B-Lazarus: ...   \n",
              "\n",
              "                                           output_text  \\\n",
              "331  The purpose of large language models is to pro...   \n",
              "271  These models are trained on various datasets, ...   \n",
              "468  To maximize the likelihood of predicting the n...   \n",
              "488  Access to the model is granted on a case-by-ca...   \n",
              "723  The desired outcome of using LoRAs on language...   \n",
              "\n",
              "                                             input_ids  \\\n",
              "331  [85, 2886, 86, 3348, 14, 39226, 585, 14, 1449,...   \n",
              "271  [11351, 14, 19742, 9821, 14, 1012, 67, 27, 173...   \n",
              "468  [30377, 16580, 18128, 14, 72, 431, 14, 75, 14,...   \n",
              "488  [620, 2902, 14, 1229, 67, 27, 26198, 2902, 14,...   \n",
              "723  [4218, 491, 66, 18128, 14, 1229, 35, 14, 45, 2...   \n",
              "\n",
              "                                        attention_mask  \\\n",
              "331  [1, 1, 1, 1, 1, 1, 1, 1, 1, 1, 1, 1, 1, 1, 1, ...   \n",
              "271  [1, 1, 1, 1, 1, 1, 1, 1, 1, 1, 1, 1, 1, 1, 1, ...   \n",
              "468  [1, 1, 1, 1, 1, 1, 1, 1, 1, 1, 1, 1, 1, 1, 1, ...   \n",
              "488  [1, 1, 1, 1, 1, 1, 1, 1, 1, 1, 1, 1, 1, 1, 1, ...   \n",
              "723  [1, 1, 1, 1, 1, 1, 1, 1, 1, 1, 1, 1, 1, 1, 1, ...   \n",
              "\n",
              "                                                labels  \n",
              "331  [85, 2886, 86, 3348, 14, 39226, 585, 14, 1449,...  \n",
              "271  [11351, 14, 19742, 9821, 14, 1012, 67, 27, 173...  \n",
              "468  [30377, 16580, 18128, 14, 72, 431, 14, 75, 14,...  \n",
              "488  [620, 2902, 14, 1229, 67, 27, 26198, 2902, 14,...  \n",
              "723  [4218, 491, 66, 18128, 14, 1229, 35, 14, 45, 2...  "
            ],
            "text/html": [
              "\n",
              "  <div id=\"df-15a264c0-bbc4-4bd8-9130-96585a81b672\" class=\"colab-df-container\">\n",
              "    <div>\n",
              "<style scoped>\n",
              "    .dataframe tbody tr th:only-of-type {\n",
              "        vertical-align: middle;\n",
              "    }\n",
              "\n",
              "    .dataframe tbody tr th {\n",
              "        vertical-align: top;\n",
              "    }\n",
              "\n",
              "    .dataframe thead th {\n",
              "        text-align: right;\n",
              "    }\n",
              "</style>\n",
              "<table border=\"1\" class=\"dataframe\">\n",
              "  <thead>\n",
              "    <tr style=\"text-align: right;\">\n",
              "      <th></th>\n",
              "      <th>input_text</th>\n",
              "      <th>output_text</th>\n",
              "      <th>input_ids</th>\n",
              "      <th>attention_mask</th>\n",
              "      <th>labels</th>\n",
              "    </tr>\n",
              "  </thead>\n",
              "  <tbody>\n",
              "    <tr>\n",
              "      <th>331</th>\n",
              "      <td>tiiuae-falcon-40b: What is the purpose of larg...</td>\n",
              "      <td>The purpose of large language models is to pro...</td>\n",
              "      <td>[85, 2886, 86, 3348, 14, 39226, 585, 14, 1449,...</td>\n",
              "      <td>[1, 1, 1, 1, 1, 1, 1, 1, 1, 1, 1, 1, 1, 1, 1, ...</td>\n",
              "      <td>[85, 2886, 86, 3348, 14, 39226, 585, 14, 1449,...</td>\n",
              "    </tr>\n",
              "    <tr>\n",
              "      <th>271</th>\n",
              "      <td>stable-vicuna-13b: What datasets are used to t...</td>\n",
              "      <td>These models are trained on various datasets, ...</td>\n",
              "      <td>[11351, 14, 19742, 9821, 14, 1012, 67, 27, 173...</td>\n",
              "      <td>[1, 1, 1, 1, 1, 1, 1, 1, 1, 1, 1, 1, 1, 1, 1, ...</td>\n",
              "      <td>[11351, 14, 19742, 9821, 14, 1012, 67, 27, 173...</td>\n",
              "    </tr>\n",
              "    <tr>\n",
              "      <th>468</th>\n",
              "      <td>EleutherAI-gpt-j-6b: EleutherAI-gpt-j-6b: Eleu...</td>\n",
              "      <td>To maximize the likelihood of predicting the n...</td>\n",
              "      <td>[30377, 16580, 18128, 14, 72, 431, 14, 75, 14,...</td>\n",
              "      <td>[1, 1, 1, 1, 1, 1, 1, 1, 1, 1, 1, 1, 1, 1, 1, ...</td>\n",
              "      <td>[30377, 16580, 18128, 14, 72, 431, 14, 75, 14,...</td>\n",
              "    </tr>\n",
              "    <tr>\n",
              "      <th>488</th>\n",
              "      <td>llama-30b: llama-30b: Who is eligible to acces...</td>\n",
              "      <td>Access to the model is granted on a case-by-ca...</td>\n",
              "      <td>[620, 2902, 14, 1229, 67, 27, 26198, 2902, 14,...</td>\n",
              "      <td>[1, 1, 1, 1, 1, 1, 1, 1, 1, 1, 1, 1, 1, 1, 1, ...</td>\n",
              "      <td>[620, 2902, 14, 1229, 67, 27, 26198, 2902, 14,...</td>\n",
              "    </tr>\n",
              "    <tr>\n",
              "      <th>723</th>\n",
              "      <td>CalderaAI-30B-Lazarus: CalderaAI-30B-Lazarus: ...</td>\n",
              "      <td>The desired outcome of using LoRAs on language...</td>\n",
              "      <td>[4218, 491, 66, 18128, 14, 1229, 35, 14, 45, 2...</td>\n",
              "      <td>[1, 1, 1, 1, 1, 1, 1, 1, 1, 1, 1, 1, 1, 1, 1, ...</td>\n",
              "      <td>[4218, 491, 66, 18128, 14, 1229, 35, 14, 45, 2...</td>\n",
              "    </tr>\n",
              "  </tbody>\n",
              "</table>\n",
              "</div>\n",
              "    <div class=\"colab-df-buttons\">\n",
              "\n",
              "  <div class=\"colab-df-container\">\n",
              "    <button class=\"colab-df-convert\" onclick=\"convertToInteractive('df-15a264c0-bbc4-4bd8-9130-96585a81b672')\"\n",
              "            title=\"Convert this dataframe to an interactive table.\"\n",
              "            style=\"display:none;\">\n",
              "\n",
              "  <svg xmlns=\"http://www.w3.org/2000/svg\" height=\"24px\" viewBox=\"0 -960 960 960\">\n",
              "    <path d=\"M120-120v-720h720v720H120Zm60-500h600v-160H180v160Zm220 220h160v-160H400v160Zm0 220h160v-160H400v160ZM180-400h160v-160H180v160Zm440 0h160v-160H620v160ZM180-180h160v-160H180v160Zm440 0h160v-160H620v160Z\"/>\n",
              "  </svg>\n",
              "    </button>\n",
              "\n",
              "  <style>\n",
              "    .colab-df-container {\n",
              "      display:flex;\n",
              "      gap: 12px;\n",
              "    }\n",
              "\n",
              "    .colab-df-convert {\n",
              "      background-color: #E8F0FE;\n",
              "      border: none;\n",
              "      border-radius: 50%;\n",
              "      cursor: pointer;\n",
              "      display: none;\n",
              "      fill: #1967D2;\n",
              "      height: 32px;\n",
              "      padding: 0 0 0 0;\n",
              "      width: 32px;\n",
              "    }\n",
              "\n",
              "    .colab-df-convert:hover {\n",
              "      background-color: #E2EBFA;\n",
              "      box-shadow: 0px 1px 2px rgba(60, 64, 67, 0.3), 0px 1px 3px 1px rgba(60, 64, 67, 0.15);\n",
              "      fill: #174EA6;\n",
              "    }\n",
              "\n",
              "    .colab-df-buttons div {\n",
              "      margin-bottom: 4px;\n",
              "    }\n",
              "\n",
              "    [theme=dark] .colab-df-convert {\n",
              "      background-color: #3B4455;\n",
              "      fill: #D2E3FC;\n",
              "    }\n",
              "\n",
              "    [theme=dark] .colab-df-convert:hover {\n",
              "      background-color: #434B5C;\n",
              "      box-shadow: 0px 1px 3px 1px rgba(0, 0, 0, 0.15);\n",
              "      filter: drop-shadow(0px 1px 2px rgba(0, 0, 0, 0.3));\n",
              "      fill: #FFFFFF;\n",
              "    }\n",
              "  </style>\n",
              "\n",
              "    <script>\n",
              "      const buttonEl =\n",
              "        document.querySelector('#df-15a264c0-bbc4-4bd8-9130-96585a81b672 button.colab-df-convert');\n",
              "      buttonEl.style.display =\n",
              "        google.colab.kernel.accessAllowed ? 'block' : 'none';\n",
              "\n",
              "      async function convertToInteractive(key) {\n",
              "        const element = document.querySelector('#df-15a264c0-bbc4-4bd8-9130-96585a81b672');\n",
              "        const dataTable =\n",
              "          await google.colab.kernel.invokeFunction('convertToInteractive',\n",
              "                                                    [key], {});\n",
              "        if (!dataTable) return;\n",
              "\n",
              "        const docLinkHtml = 'Like what you see? Visit the ' +\n",
              "          '<a target=\"_blank\" href=https://colab.research.google.com/notebooks/data_table.ipynb>data table notebook</a>'\n",
              "          + ' to learn more about interactive tables.';\n",
              "        element.innerHTML = '';\n",
              "        dataTable['output_type'] = 'display_data';\n",
              "        await google.colab.output.renderOutput(dataTable, element);\n",
              "        const docLink = document.createElement('div');\n",
              "        docLink.innerHTML = docLinkHtml;\n",
              "        element.appendChild(docLink);\n",
              "      }\n",
              "    </script>\n",
              "  </div>\n",
              "\n",
              "\n",
              "<div id=\"df-b3d18d5b-5b0f-471b-9108-92f6458d6477\">\n",
              "  <button class=\"colab-df-quickchart\" onclick=\"quickchart('df-b3d18d5b-5b0f-471b-9108-92f6458d6477')\"\n",
              "            title=\"Suggest charts.\"\n",
              "            style=\"display:none;\">\n",
              "\n",
              "<svg xmlns=\"http://www.w3.org/2000/svg\" height=\"24px\"viewBox=\"0 0 24 24\"\n",
              "     width=\"24px\">\n",
              "    <g>\n",
              "        <path d=\"M19 3H5c-1.1 0-2 .9-2 2v14c0 1.1.9 2 2 2h14c1.1 0 2-.9 2-2V5c0-1.1-.9-2-2-2zM9 17H7v-7h2v7zm4 0h-2V7h2v10zm4 0h-2v-4h2v4z\"/>\n",
              "    </g>\n",
              "</svg>\n",
              "  </button>\n",
              "\n",
              "<style>\n",
              "  .colab-df-quickchart {\n",
              "      --bg-color: #E8F0FE;\n",
              "      --fill-color: #1967D2;\n",
              "      --hover-bg-color: #E2EBFA;\n",
              "      --hover-fill-color: #174EA6;\n",
              "      --disabled-fill-color: #AAA;\n",
              "      --disabled-bg-color: #DDD;\n",
              "  }\n",
              "\n",
              "  [theme=dark] .colab-df-quickchart {\n",
              "      --bg-color: #3B4455;\n",
              "      --fill-color: #D2E3FC;\n",
              "      --hover-bg-color: #434B5C;\n",
              "      --hover-fill-color: #FFFFFF;\n",
              "      --disabled-bg-color: #3B4455;\n",
              "      --disabled-fill-color: #666;\n",
              "  }\n",
              "\n",
              "  .colab-df-quickchart {\n",
              "    background-color: var(--bg-color);\n",
              "    border: none;\n",
              "    border-radius: 50%;\n",
              "    cursor: pointer;\n",
              "    display: none;\n",
              "    fill: var(--fill-color);\n",
              "    height: 32px;\n",
              "    padding: 0;\n",
              "    width: 32px;\n",
              "  }\n",
              "\n",
              "  .colab-df-quickchart:hover {\n",
              "    background-color: var(--hover-bg-color);\n",
              "    box-shadow: 0 1px 2px rgba(60, 64, 67, 0.3), 0 1px 3px 1px rgba(60, 64, 67, 0.15);\n",
              "    fill: var(--button-hover-fill-color);\n",
              "  }\n",
              "\n",
              "  .colab-df-quickchart-complete:disabled,\n",
              "  .colab-df-quickchart-complete:disabled:hover {\n",
              "    background-color: var(--disabled-bg-color);\n",
              "    fill: var(--disabled-fill-color);\n",
              "    box-shadow: none;\n",
              "  }\n",
              "\n",
              "  .colab-df-spinner {\n",
              "    border: 2px solid var(--fill-color);\n",
              "    border-color: transparent;\n",
              "    border-bottom-color: var(--fill-color);\n",
              "    animation:\n",
              "      spin 1s steps(1) infinite;\n",
              "  }\n",
              "\n",
              "  @keyframes spin {\n",
              "    0% {\n",
              "      border-color: transparent;\n",
              "      border-bottom-color: var(--fill-color);\n",
              "      border-left-color: var(--fill-color);\n",
              "    }\n",
              "    20% {\n",
              "      border-color: transparent;\n",
              "      border-left-color: var(--fill-color);\n",
              "      border-top-color: var(--fill-color);\n",
              "    }\n",
              "    30% {\n",
              "      border-color: transparent;\n",
              "      border-left-color: var(--fill-color);\n",
              "      border-top-color: var(--fill-color);\n",
              "      border-right-color: var(--fill-color);\n",
              "    }\n",
              "    40% {\n",
              "      border-color: transparent;\n",
              "      border-right-color: var(--fill-color);\n",
              "      border-top-color: var(--fill-color);\n",
              "    }\n",
              "    60% {\n",
              "      border-color: transparent;\n",
              "      border-right-color: var(--fill-color);\n",
              "    }\n",
              "    80% {\n",
              "      border-color: transparent;\n",
              "      border-right-color: var(--fill-color);\n",
              "      border-bottom-color: var(--fill-color);\n",
              "    }\n",
              "    90% {\n",
              "      border-color: transparent;\n",
              "      border-bottom-color: var(--fill-color);\n",
              "    }\n",
              "  }\n",
              "</style>\n",
              "\n",
              "  <script>\n",
              "    async function quickchart(key) {\n",
              "      const quickchartButtonEl =\n",
              "        document.querySelector('#' + key + ' button');\n",
              "      quickchartButtonEl.disabled = true;  // To prevent multiple clicks.\n",
              "      quickchartButtonEl.classList.add('colab-df-spinner');\n",
              "      try {\n",
              "        const charts = await google.colab.kernel.invokeFunction(\n",
              "            'suggestCharts', [key], {});\n",
              "      } catch (error) {\n",
              "        console.error('Error during call to suggestCharts:', error);\n",
              "      }\n",
              "      quickchartButtonEl.classList.remove('colab-df-spinner');\n",
              "      quickchartButtonEl.classList.add('colab-df-quickchart-complete');\n",
              "    }\n",
              "    (() => {\n",
              "      let quickchartButtonEl =\n",
              "        document.querySelector('#df-b3d18d5b-5b0f-471b-9108-92f6458d6477 button');\n",
              "      quickchartButtonEl.style.display =\n",
              "        google.colab.kernel.accessAllowed ? 'block' : 'none';\n",
              "    })();\n",
              "  </script>\n",
              "</div>\n",
              "    </div>\n",
              "  </div>\n"
            ]
          },
          "metadata": {},
          "execution_count": 17
        }
      ]
    },
    {
      "cell_type": "markdown",
      "source": [
        "We now convert the training data to the required JSON Lines format, in which each line contains a single training example. We store the file in the GCS bucket."
      ],
      "metadata": {
        "id": "QetaPV-Y7npf"
      }
    },
    {
      "cell_type": "code",
      "source": [
        "tune_jsonl = train.to_json(orient=\"records\", lines=True)\n",
        "\n",
        "print(f\"Length: {len(tune_jsonl)}\")\n",
        "print(tune_jsonl[0:100])"
      ],
      "metadata": {
        "colab": {
          "base_uri": "https://localhost:8080/"
        },
        "id": "6yP4LorhSXkp",
        "outputId": "9262bd30-d12f-44e8-8134-e9ff1827ec37"
      },
      "execution_count": 29,
      "outputs": [
        {
          "output_type": "stream",
          "name": "stdout",
          "text": [
            "Length: 668339\n",
            "{\"input_text\":\"llama-65b: When was LLaMA released?\",\"output_text\":\"LLaMA was released on February 24\n"
          ]
        }
      ]
    },
    {
      "cell_type": "code",
      "source": [
        "training_data_filename = \"tune_open_llms.jsonl\"\n",
        "\n",
        "with open(training_data_filename, \"w\") as f:\n",
        "    f.write(tune_jsonl)"
      ],
      "metadata": {
        "id": "lqlFds9uSr_E"
      },
      "execution_count": 30,
      "outputs": []
    },
    {
      "cell_type": "code",
      "source": [
        "! gsutil cp $training_data_filename $BUCKET_URI"
      ],
      "metadata": {
        "id": "W4Rr3HN3Sl7S"
      },
      "execution_count": null,
      "outputs": []
    },
    {
      "cell_type": "code",
      "source": [
        "TRAINING_DATA_URI = f\"{BUCKET_URI}/{training_data_filename}\""
      ],
      "metadata": {
        "id": "tLuxm_zNS2zU"
      },
      "execution_count": 32,
      "outputs": []
    },
    {
      "cell_type": "code",
      "source": [
        "MODEL_NAME = f\"fine-tuned-open-llms\""
      ],
      "metadata": {
        "id": "4fXDIgKqS_71"
      },
      "execution_count": 33,
      "outputs": []
    },
    {
      "cell_type": "code",
      "source": [
        "from vertexai.preview.language_models import TextGenerationModel\n",
        "\n",
        "# Tuning job\n",
        "def tuned_model(\n",
        "    project_id: str,\n",
        "    location: str,\n",
        "    training_data: str, # the GCS URI of the JSONL file\n",
        "    model_display_name: str, # name of the model\n",
        "    train_steps=100, # number of training steps when tuning the model\n",
        "):\n",
        "    # References our base model, bison\n",
        "    model = TextGenerationModel.from_pretrained(\"text-bison@001\")\n",
        "    model.tune_model(\n",
        "        training_data=training_data,\n",
        "        model_display_name=model_display_name,\n",
        "        train_steps=train_steps,\n",
        "        # Tuning can only happen in the \"europe-west4\" location\n",
        "        tuning_job_location=\"europe-west4\",\n",
        "        # Model can only be deployed in the \"us-central1\" location\n",
        "        tuned_model_location=\"us-central1\",\n",
        "    )\n",
        "\n",
        "    # Test the tuned model:\n",
        "    print(\n",
        "        model.predict(\n",
        "            \"ausboss-llama-30b-supercot: What parameter sizes is this LoRA compatible with?\"\n",
        "        )\n",
        "    )\n",
        "\n",
        "    return model"
      ],
      "metadata": {
        "id": "-DcHuMtXTBUz"
      },
      "execution_count": 39,
      "outputs": []
    },
    {
      "cell_type": "code",
      "source": [
        "model = tuned_model(PROJECT_ID, REGION, TRAINING_DATA_URI, MODEL_NAME)"
      ],
      "metadata": {
        "id": "lQJSUBi9Tl9_"
      },
      "execution_count": null,
      "outputs": []
    },
    {
      "cell_type": "markdown",
      "source": [
        "### View a list of tuned models\n",
        "\n",
        "If you have already tuned or imported a model, or your Colab session had to be reconnected, you can use this function to load it."
      ],
      "metadata": {
        "id": "eGDuu9C_W_T3"
      }
    },
    {
      "cell_type": "code",
      "source": [
        "from vertexai.preview.language_models import TextGenerationModel\n",
        "\n",
        "def list_tuned_models(\n",
        "    project_id: str,\n",
        "    location: str,\n",
        ") -> None:\n",
        "    \"\"\"List tuned models.\"\"\"\n",
        "    vertexai.init(project=project_id, location=location)\n",
        "    model = TextGenerationModel.from_pretrained(\"text-bison@001\")\n",
        "    tuned_model_names = model.list_tuned_model_names()\n",
        "    print(tuned_model_names)"
      ],
      "metadata": {
        "id": "9eIdjWduW-PX"
      },
      "execution_count": 84,
      "outputs": []
    },
    {
      "cell_type": "code",
      "source": [
        "list_tuned_models(project_id=PROJECT_ID, location=REGION)"
      ],
      "metadata": {
        "id": "0GYXbcZcTBXX"
      },
      "execution_count": null,
      "outputs": []
    },
    {
      "cell_type": "markdown",
      "source": [
        "### Load the tuned model"
      ],
      "metadata": {
        "id": "Xc_EoO_l1LfR"
      }
    },
    {
      "cell_type": "code",
      "source": [
        "parameters = {\n",
        "    \"max_output_tokens\": 1024,\n",
        "    \"temperature\": 0.1,\n",
        "    \"top_p\": 0.8,\n",
        "    \"top_k\": 40\n",
        "}\n",
        "\n",
        "original_model = TextGenerationModel.from_pretrained(\"text-bison@001\")\n",
        "# Add the ouptut from list_tuned_models above\n",
        "tuned_model = original_model.get_tuned_model(\"<..>\")\n",
        "response = tuned_model.predict(\n",
        "    \"\"\"\"EleutherAI-gpt-neox-20b: What techniques were used to distribute the model across GPUs?\"?\"\"\",\n",
        "    **parameters\n",
        "    )\n",
        "print(f\"Response from tuned model: {response.text}\")\n"
      ],
      "metadata": {
        "colab": {
          "base_uri": "https://localhost:8080/"
        },
        "id": "lxAO2UWITBZo",
        "outputId": "b5f3374a-3b83-448e-8432-5e343993bea2"
      },
      "execution_count": 86,
      "outputs": [
        {
          "output_type": "stream",
          "name": "stdout",
          "text": [
            "Response from tuned model: The techniques used to distribute the model across GPUs were:\n",
            "\n",
            "1. TPUs were used to distribute the model across GPUs.\n",
            "2. The model was distributed across GPUs using TPUs.\n",
            "3. The model was distributed across GPUs using TPUs.\n"
          ]
        }
      ]
    },
    {
      "cell_type": "code",
      "source": [
        "def gen_eval_answers(model_, eval_data):\n",
        "  eval_data = eval_data[:5]  # you can change the number of rows you want to use\n",
        "  eval_q = eval_data[\"input_text\"]\n",
        "  eval_answer = eval_data[\"output_text\"]\n",
        "  # answers is a list of the model outputs\n",
        "  answers = []\n",
        "\n",
        "  for i in eval_q:\n",
        "      response = model_.predict(i)\n",
        "      answers.append(response.text)\n",
        "  # ground_truths is the original output_text from the dataset\n",
        "  ground_truths = eval_answer.tolist()\n",
        "  return answers, ground_truths"
      ],
      "metadata": {
        "id": "utReqFG-9C1y"
      },
      "execution_count": 64,
      "outputs": []
    },
    {
      "cell_type": "markdown",
      "source": [
        "Occasionally a response by the model will trigger safety flags that lead to an empty output, so we need a function to ensure that any empty entries (\" \") in `answers` are deleted, along with their counterpart entry in `ground_truths`."
      ],
      "metadata": {
        "id": "RG8plma9-JwG"
      }
    },
    {
      "cell_type": "code",
      "source": [
        "def filter_empty(ans, truths):\n",
        "\n",
        "  filtered_answers = []\n",
        "  filtered_ground_truths = []\n",
        "\n",
        "  for i, (ans, gt) in enumerate(zip(ans, truths)):\n",
        "    if ans != \"\":\n",
        "      filtered_answers.append(ans)\n",
        "      filtered_ground_truths.append(gt)\n",
        "\n",
        "  if len(filtered_answers) != len(filtered_ground_truths):\n",
        "    raise ValueError(\"Filtered lists have unequal length\")\n",
        "\n",
        "  return filtered_answers, filtered_ground_truths"
      ],
      "metadata": {
        "id": "7KRBnzeN-hml"
      },
      "execution_count": 65,
      "outputs": []
    },
    {
      "cell_type": "markdown",
      "source": [
        "### Evaluation\n",
        "\n",
        "Evaluating language models is complicated, and a quickly-evolving field.\n",
        "\n",
        "In this notebook, we will use [sequence-evaluate](https://pypi.org/project/sequence-evaluate/), which allows us to check the following scores:\n",
        "\n",
        "* BLEU: a measure of similarity between the model outputs and human-written benchmark text (our `ground_truths`).\n",
        "\n",
        "* ROUGE: measures the overlap between model outputs and `ground_truths`."
      ],
      "metadata": {
        "id": "WiyRWwSmLJX-"
      }
    },
    {
      "cell_type": "code",
      "source": [
        "from seq_eval import SeqEval\n",
        "\n",
        "def evaluate(model_, eval_data):\n",
        "  answers, ground_truths = gen_eval_answers(model_, eval)\n",
        "  filtered_answers, filtered_ground_truths = filter_empty(answers, ground_truths)\n",
        "  evaluator = SeqEval()\n",
        "  scores = evaluator.evaluate(filtered_answers, filtered_ground_truths, verbose=False)\n",
        "  return scores"
      ],
      "metadata": {
        "id": "0XpZWBtFC-qc"
      },
      "execution_count": 71,
      "outputs": []
    },
    {
      "cell_type": "code",
      "source": [
        "original_model_scores = evaluate(original_model, eval)"
      ],
      "metadata": {
        "id": "tJbdCPXmD6ZU"
      },
      "execution_count": 72,
      "outputs": []
    },
    {
      "cell_type": "code",
      "source": [
        "tuned_model_scores = evaluate(tuned_model, eval)\n",
        "print(tuned_model_scores)"
      ],
      "metadata": {
        "colab": {
          "base_uri": "https://localhost:8080/"
        },
        "id": "t6_zbPhDD6cA",
        "outputId": "c3c69adf-19de-47ab-9f3f-db7083fe24be"
      },
      "execution_count": 74,
      "outputs": [
        {
          "output_type": "stream",
          "name": "stdout",
          "text": [
            "{'bleu_1': 0.24233021044554298, 'bleu_2': 0.20119113021360832, 'bleu_3': 0.18451727800543202, 'bleu_4': 0.1687980254687695, 'rouge_1_precision': 0.46880952380952384, 'rouge_1_recall': 0.3044662309368192, 'rouge_1_f1': 0.3548340656552031, 'rouge_2_precision': 0.2986842105263158, 'rouge_2_recall': 0.19130564263322883, 'rouge_2_f1': 0.23037575647430647, 'rouge_l_precision': 0.46880952380952384, 'rouge_l_recall': 0.3044662309368192, 'rouge_l_f1': 0.3548340656552031, 'inter_dist1': 0.0670611426615179, 'inter_dist2': 0.33266931608228656, 'intra_dist1': 0.2564452052802795, 'intra_dist2': 0.6822323896137757, 'semantic_textual_similarity': 0.6141194343566895}\n"
          ]
        }
      ]
    },
    {
      "cell_type": "markdown",
      "source": [
        "### Results\n",
        "\n",
        "Now we can create a dataframe and visualize if our tuning has yielded any benefits over the original model."
      ],
      "metadata": {
        "id": "tMbxq_eTLt7W"
      }
    },
    {
      "cell_type": "code",
      "source": [
        "# Create a DataFrame from each dictionary\n",
        "df1 = pd.DataFrame([original_model_scores], index=['original_model'])\n",
        "df2 = pd.DataFrame([tuned_model_scores], index=['tuned_model'])\n",
        "\n",
        "# Concatenate the DataFrames vertically\n",
        "result_df = pd.concat([df1, df2])\n",
        "\n",
        "result_df.head()"
      ],
      "metadata": {
        "colab": {
          "base_uri": "https://localhost:8080/",
          "height": 132
        },
        "id": "kdZNkqOND6eR",
        "outputId": "ac14fa93-9b23-480f-9aa5-be588b6fc051"
      },
      "execution_count": 77,
      "outputs": [
        {
          "output_type": "execute_result",
          "data": {
            "text/plain": [
              "                  bleu_1    bleu_2    bleu_3    bleu_4  rouge_1_precision  \\\n",
              "original_model  0.104945  0.071229  0.059507  0.048115           0.203196   \n",
              "tuned_model     0.242330  0.201191  0.184517  0.168798           0.468810   \n",
              "\n",
              "                rouge_1_recall  rouge_1_f1  rouge_2_precision  rouge_2_recall  \\\n",
              "original_model        0.330501    0.219252           0.083341        0.150202   \n",
              "tuned_model           0.304466    0.354834           0.298684        0.191306   \n",
              "\n",
              "                rouge_2_f1  rouge_l_precision  rouge_l_recall  rouge_l_f1  \\\n",
              "original_model    0.092441           0.183713        0.314760    0.204785   \n",
              "tuned_model       0.230376           0.468810        0.304466    0.354834   \n",
              "\n",
              "                inter_dist1  inter_dist2  intra_dist1  intra_dist2  \\\n",
              "original_model     0.025554     0.172547     0.117250     0.444751   \n",
              "tuned_model        0.067061     0.332669     0.256445     0.682232   \n",
              "\n",
              "                semantic_textual_similarity  \n",
              "original_model                     0.583566  \n",
              "tuned_model                        0.614119  "
            ],
            "text/html": [
              "\n",
              "  <div id=\"df-f4d0343f-0373-4e58-9ff8-2c1004319090\" class=\"colab-df-container\">\n",
              "    <div>\n",
              "<style scoped>\n",
              "    .dataframe tbody tr th:only-of-type {\n",
              "        vertical-align: middle;\n",
              "    }\n",
              "\n",
              "    .dataframe tbody tr th {\n",
              "        vertical-align: top;\n",
              "    }\n",
              "\n",
              "    .dataframe thead th {\n",
              "        text-align: right;\n",
              "    }\n",
              "</style>\n",
              "<table border=\"1\" class=\"dataframe\">\n",
              "  <thead>\n",
              "    <tr style=\"text-align: right;\">\n",
              "      <th></th>\n",
              "      <th>bleu_1</th>\n",
              "      <th>bleu_2</th>\n",
              "      <th>bleu_3</th>\n",
              "      <th>bleu_4</th>\n",
              "      <th>rouge_1_precision</th>\n",
              "      <th>rouge_1_recall</th>\n",
              "      <th>rouge_1_f1</th>\n",
              "      <th>rouge_2_precision</th>\n",
              "      <th>rouge_2_recall</th>\n",
              "      <th>rouge_2_f1</th>\n",
              "      <th>rouge_l_precision</th>\n",
              "      <th>rouge_l_recall</th>\n",
              "      <th>rouge_l_f1</th>\n",
              "      <th>inter_dist1</th>\n",
              "      <th>inter_dist2</th>\n",
              "      <th>intra_dist1</th>\n",
              "      <th>intra_dist2</th>\n",
              "      <th>semantic_textual_similarity</th>\n",
              "    </tr>\n",
              "  </thead>\n",
              "  <tbody>\n",
              "    <tr>\n",
              "      <th>original_model</th>\n",
              "      <td>0.104945</td>\n",
              "      <td>0.071229</td>\n",
              "      <td>0.059507</td>\n",
              "      <td>0.048115</td>\n",
              "      <td>0.203196</td>\n",
              "      <td>0.330501</td>\n",
              "      <td>0.219252</td>\n",
              "      <td>0.083341</td>\n",
              "      <td>0.150202</td>\n",
              "      <td>0.092441</td>\n",
              "      <td>0.183713</td>\n",
              "      <td>0.314760</td>\n",
              "      <td>0.204785</td>\n",
              "      <td>0.025554</td>\n",
              "      <td>0.172547</td>\n",
              "      <td>0.117250</td>\n",
              "      <td>0.444751</td>\n",
              "      <td>0.583566</td>\n",
              "    </tr>\n",
              "    <tr>\n",
              "      <th>tuned_model</th>\n",
              "      <td>0.242330</td>\n",
              "      <td>0.201191</td>\n",
              "      <td>0.184517</td>\n",
              "      <td>0.168798</td>\n",
              "      <td>0.468810</td>\n",
              "      <td>0.304466</td>\n",
              "      <td>0.354834</td>\n",
              "      <td>0.298684</td>\n",
              "      <td>0.191306</td>\n",
              "      <td>0.230376</td>\n",
              "      <td>0.468810</td>\n",
              "      <td>0.304466</td>\n",
              "      <td>0.354834</td>\n",
              "      <td>0.067061</td>\n",
              "      <td>0.332669</td>\n",
              "      <td>0.256445</td>\n",
              "      <td>0.682232</td>\n",
              "      <td>0.614119</td>\n",
              "    </tr>\n",
              "  </tbody>\n",
              "</table>\n",
              "</div>\n",
              "    <div class=\"colab-df-buttons\">\n",
              "\n",
              "  <div class=\"colab-df-container\">\n",
              "    <button class=\"colab-df-convert\" onclick=\"convertToInteractive('df-f4d0343f-0373-4e58-9ff8-2c1004319090')\"\n",
              "            title=\"Convert this dataframe to an interactive table.\"\n",
              "            style=\"display:none;\">\n",
              "\n",
              "  <svg xmlns=\"http://www.w3.org/2000/svg\" height=\"24px\" viewBox=\"0 -960 960 960\">\n",
              "    <path d=\"M120-120v-720h720v720H120Zm60-500h600v-160H180v160Zm220 220h160v-160H400v160Zm0 220h160v-160H400v160ZM180-400h160v-160H180v160Zm440 0h160v-160H620v160ZM180-180h160v-160H180v160Zm440 0h160v-160H620v160Z\"/>\n",
              "  </svg>\n",
              "    </button>\n",
              "\n",
              "  <style>\n",
              "    .colab-df-container {\n",
              "      display:flex;\n",
              "      gap: 12px;\n",
              "    }\n",
              "\n",
              "    .colab-df-convert {\n",
              "      background-color: #E8F0FE;\n",
              "      border: none;\n",
              "      border-radius: 50%;\n",
              "      cursor: pointer;\n",
              "      display: none;\n",
              "      fill: #1967D2;\n",
              "      height: 32px;\n",
              "      padding: 0 0 0 0;\n",
              "      width: 32px;\n",
              "    }\n",
              "\n",
              "    .colab-df-convert:hover {\n",
              "      background-color: #E2EBFA;\n",
              "      box-shadow: 0px 1px 2px rgba(60, 64, 67, 0.3), 0px 1px 3px 1px rgba(60, 64, 67, 0.15);\n",
              "      fill: #174EA6;\n",
              "    }\n",
              "\n",
              "    .colab-df-buttons div {\n",
              "      margin-bottom: 4px;\n",
              "    }\n",
              "\n",
              "    [theme=dark] .colab-df-convert {\n",
              "      background-color: #3B4455;\n",
              "      fill: #D2E3FC;\n",
              "    }\n",
              "\n",
              "    [theme=dark] .colab-df-convert:hover {\n",
              "      background-color: #434B5C;\n",
              "      box-shadow: 0px 1px 3px 1px rgba(0, 0, 0, 0.15);\n",
              "      filter: drop-shadow(0px 1px 2px rgba(0, 0, 0, 0.3));\n",
              "      fill: #FFFFFF;\n",
              "    }\n",
              "  </style>\n",
              "\n",
              "    <script>\n",
              "      const buttonEl =\n",
              "        document.querySelector('#df-f4d0343f-0373-4e58-9ff8-2c1004319090 button.colab-df-convert');\n",
              "      buttonEl.style.display =\n",
              "        google.colab.kernel.accessAllowed ? 'block' : 'none';\n",
              "\n",
              "      async function convertToInteractive(key) {\n",
              "        const element = document.querySelector('#df-f4d0343f-0373-4e58-9ff8-2c1004319090');\n",
              "        const dataTable =\n",
              "          await google.colab.kernel.invokeFunction('convertToInteractive',\n",
              "                                                    [key], {});\n",
              "        if (!dataTable) return;\n",
              "\n",
              "        const docLinkHtml = 'Like what you see? Visit the ' +\n",
              "          '<a target=\"_blank\" href=https://colab.research.google.com/notebooks/data_table.ipynb>data table notebook</a>'\n",
              "          + ' to learn more about interactive tables.';\n",
              "        element.innerHTML = '';\n",
              "        dataTable['output_type'] = 'display_data';\n",
              "        await google.colab.output.renderOutput(dataTable, element);\n",
              "        const docLink = document.createElement('div');\n",
              "        docLink.innerHTML = docLinkHtml;\n",
              "        element.appendChild(docLink);\n",
              "      }\n",
              "    </script>\n",
              "  </div>\n",
              "\n",
              "\n",
              "<div id=\"df-bd7fcf9e-aee2-4098-aa5f-8fdbe1ef3e80\">\n",
              "  <button class=\"colab-df-quickchart\" onclick=\"quickchart('df-bd7fcf9e-aee2-4098-aa5f-8fdbe1ef3e80')\"\n",
              "            title=\"Suggest charts.\"\n",
              "            style=\"display:none;\">\n",
              "\n",
              "<svg xmlns=\"http://www.w3.org/2000/svg\" height=\"24px\"viewBox=\"0 0 24 24\"\n",
              "     width=\"24px\">\n",
              "    <g>\n",
              "        <path d=\"M19 3H5c-1.1 0-2 .9-2 2v14c0 1.1.9 2 2 2h14c1.1 0 2-.9 2-2V5c0-1.1-.9-2-2-2zM9 17H7v-7h2v7zm4 0h-2V7h2v10zm4 0h-2v-4h2v4z\"/>\n",
              "    </g>\n",
              "</svg>\n",
              "  </button>\n",
              "\n",
              "<style>\n",
              "  .colab-df-quickchart {\n",
              "      --bg-color: #E8F0FE;\n",
              "      --fill-color: #1967D2;\n",
              "      --hover-bg-color: #E2EBFA;\n",
              "      --hover-fill-color: #174EA6;\n",
              "      --disabled-fill-color: #AAA;\n",
              "      --disabled-bg-color: #DDD;\n",
              "  }\n",
              "\n",
              "  [theme=dark] .colab-df-quickchart {\n",
              "      --bg-color: #3B4455;\n",
              "      --fill-color: #D2E3FC;\n",
              "      --hover-bg-color: #434B5C;\n",
              "      --hover-fill-color: #FFFFFF;\n",
              "      --disabled-bg-color: #3B4455;\n",
              "      --disabled-fill-color: #666;\n",
              "  }\n",
              "\n",
              "  .colab-df-quickchart {\n",
              "    background-color: var(--bg-color);\n",
              "    border: none;\n",
              "    border-radius: 50%;\n",
              "    cursor: pointer;\n",
              "    display: none;\n",
              "    fill: var(--fill-color);\n",
              "    height: 32px;\n",
              "    padding: 0;\n",
              "    width: 32px;\n",
              "  }\n",
              "\n",
              "  .colab-df-quickchart:hover {\n",
              "    background-color: var(--hover-bg-color);\n",
              "    box-shadow: 0 1px 2px rgba(60, 64, 67, 0.3), 0 1px 3px 1px rgba(60, 64, 67, 0.15);\n",
              "    fill: var(--button-hover-fill-color);\n",
              "  }\n",
              "\n",
              "  .colab-df-quickchart-complete:disabled,\n",
              "  .colab-df-quickchart-complete:disabled:hover {\n",
              "    background-color: var(--disabled-bg-color);\n",
              "    fill: var(--disabled-fill-color);\n",
              "    box-shadow: none;\n",
              "  }\n",
              "\n",
              "  .colab-df-spinner {\n",
              "    border: 2px solid var(--fill-color);\n",
              "    border-color: transparent;\n",
              "    border-bottom-color: var(--fill-color);\n",
              "    animation:\n",
              "      spin 1s steps(1) infinite;\n",
              "  }\n",
              "\n",
              "  @keyframes spin {\n",
              "    0% {\n",
              "      border-color: transparent;\n",
              "      border-bottom-color: var(--fill-color);\n",
              "      border-left-color: var(--fill-color);\n",
              "    }\n",
              "    20% {\n",
              "      border-color: transparent;\n",
              "      border-left-color: var(--fill-color);\n",
              "      border-top-color: var(--fill-color);\n",
              "    }\n",
              "    30% {\n",
              "      border-color: transparent;\n",
              "      border-left-color: var(--fill-color);\n",
              "      border-top-color: var(--fill-color);\n",
              "      border-right-color: var(--fill-color);\n",
              "    }\n",
              "    40% {\n",
              "      border-color: transparent;\n",
              "      border-right-color: var(--fill-color);\n",
              "      border-top-color: var(--fill-color);\n",
              "    }\n",
              "    60% {\n",
              "      border-color: transparent;\n",
              "      border-right-color: var(--fill-color);\n",
              "    }\n",
              "    80% {\n",
              "      border-color: transparent;\n",
              "      border-right-color: var(--fill-color);\n",
              "      border-bottom-color: var(--fill-color);\n",
              "    }\n",
              "    90% {\n",
              "      border-color: transparent;\n",
              "      border-bottom-color: var(--fill-color);\n",
              "    }\n",
              "  }\n",
              "</style>\n",
              "\n",
              "  <script>\n",
              "    async function quickchart(key) {\n",
              "      const quickchartButtonEl =\n",
              "        document.querySelector('#' + key + ' button');\n",
              "      quickchartButtonEl.disabled = true;  // To prevent multiple clicks.\n",
              "      quickchartButtonEl.classList.add('colab-df-spinner');\n",
              "      try {\n",
              "        const charts = await google.colab.kernel.invokeFunction(\n",
              "            'suggestCharts', [key], {});\n",
              "      } catch (error) {\n",
              "        console.error('Error during call to suggestCharts:', error);\n",
              "      }\n",
              "      quickchartButtonEl.classList.remove('colab-df-spinner');\n",
              "      quickchartButtonEl.classList.add('colab-df-quickchart-complete');\n",
              "    }\n",
              "    (() => {\n",
              "      let quickchartButtonEl =\n",
              "        document.querySelector('#df-bd7fcf9e-aee2-4098-aa5f-8fdbe1ef3e80 button');\n",
              "      quickchartButtonEl.style.display =\n",
              "        google.colab.kernel.accessAllowed ? 'block' : 'none';\n",
              "    })();\n",
              "  </script>\n",
              "</div>\n",
              "    </div>\n",
              "  </div>\n"
            ]
          },
          "metadata": {},
          "execution_count": 77
        }
      ]
    },
    {
      "cell_type": "markdown",
      "source": [
        "A visualization will make our evaluation easier. Higher scores are of course better in this case."
      ],
      "metadata": {
        "id": "W2oDzcm2JddF"
      }
    },
    {
      "cell_type": "code",
      "source": [
        "import matplotlib.pyplot as plt\n",
        "\n",
        "result_df.transpose().plot(kind='line', figsize=(10, 6))\n",
        "plt.title('Original v Tuned model')\n",
        "plt.xlabel('Metrics')\n",
        "plt.ylabel('Score')\n",
        "plt.legend(['original_model', 'tuned_model'])\n",
        "plt.show()"
      ],
      "metadata": {
        "colab": {
          "base_uri": "https://localhost:8080/",
          "height": 526
        },
        "id": "oT7psV3mI6Db",
        "outputId": "1b4a425e-39ea-4217-bba5-eea89fc16390"
      },
      "execution_count": 82,
      "outputs": [
        {
          "output_type": "display_data",
          "data": {
            "text/plain": [
              "<Figure size 1000x600 with 1 Axes>"
            ],
            "image/png": "[encoded data removed]"
          },
          "metadata": {}
        }
      ]
    }
  ]
}