{
  "cells": [
    {
      "cell_type": "markdown",
      "metadata": {
        "colab_type": "text",
        "id": "view-in-github"
      },
      "source": [
        "<a href=\"https://colab.research.google.com/github/rastringer/promptcraft/blob/main/check_prereqs.ipynb\" target=\"_blank\"><img src=\"https://colab.research.google.com/assets/colab-badge.svg\" alt=\"Open In Colab\"/></a>"
      ]
    },
    {
      "cell_type": "markdown",
      "metadata": {
        "id": "2ii3ihksojvA"
      },
      "source": [
        "### On your marks!\n",
        "\n",
        "This short notebook will check the following prerequisites for the course are complete:\n",
        "\n",
        "* Authenticating to a Google Cloud account\n",
        "\n",
        "* Access to a GCP **project**\n",
        "\n",
        "* Vertex AI user IAM role permissions for the GCP account\n"
      ]
    },
    {
      "cell_type": "code",
      "execution_count": null,
      "metadata": {
        "id": "A2k24lCDonBx"
      },
      "outputs": [],
      "source": [
        "! pip3 install --upgrade google-cloud-aiplatform\n",
        "! pip3 install shapely<2.0.0"
      ]
    },
    {
      "cell_type": "code",
      "execution_count": null,
      "metadata": {
        "id": "OPxAFOghonE3"
      },
      "outputs": [],
      "source": [
        "# Automatically restart kernel to access the new packages\n",
        "import IPython\n",
        "\n",
        "app = IPython.Application.instance()\n",
        "app.kernel.do_shutdown(True)"
      ]
    },
    {
      "cell_type": "markdown",
      "metadata": {
        "id": "hN7KknySjqov"
      },
      "source": [
        "On Vertex Workbench, you're already authenticated, so skip the next cell.\n",
        "\n",
        "If you're on Colab, authenticate:"
      ]
    },
    {
      "cell_type": "code",
      "execution_count": null,
      "metadata": {
        "id": "4BrhaYTBor1M"
      },
      "outputs": [],
      "source": [
        "from google.colab import auth\n",
        "auth.authenticate_user()"
      ]
    },
    {
      "cell_type": "markdown",
      "metadata": {
        "id": "s9X-2P34whCH"
      },
      "source": [
        "Add your `project id` and the `region`"
      ]
    },
    {
      "cell_type": "code",
      "execution_count": null,
      "metadata": {
        "id": "vm5mBUyEwPWW"
      },
      "outputs": [],
      "source": [
        "PROJECT_ID = \"<your-project-id>\"\n",
        "REGION = \"<your-project-region>\""
      ]
    },
    {
      "cell_type": "code",
      "execution_count": null,
      "metadata": {
        "id": "FJxfbeZPvplm"
      },
      "outputs": [],
      "source": [
        "import vertexai\n",
        "from vertexai.preview.language_models import ChatModel, InputOutputTextPair\n",
        "\n",
        "# Initialize the Vertex SDK\n",
        "vertexai.init(project=PROJECT_ID, location=REGION)\n",
        "\n",
        "chat_model = ChatModel.from_pretrained(\"chat-bison@001\")\n",
        "chat = chat_model.start_chat(\n",
        "    context=\"\"\"system\"\"\",\n",
        "    examples=[]\n",
        ")\n",
        "response = chat.send_message(\"\"\"Write a haiku about LLMs\"\"\")\n",
        "print(response.text)"
      ]
    },
    {
      "cell_type": "markdown",
      "metadata": {
        "id": "OgEpYCI_xwJM"
      },
      "source": [
        "If you see a short haiku from the model, you're ready to proceed."
      ]
    }
  ],
  "metadata": {
    "colab": {
      "authorship_tag": "ABX9TyMFBojXDl3dX1BT7BPRUW74",
      "include_colab_link": true,
      "provenance": []
    },
    "kernelspec": {
      "display_name": "Python 3",
      "name": "python3"
    },
    "language_info": {
      "name": "python"
    }
  },
  "nbformat": 4,
  "nbformat_minor": 0
}
