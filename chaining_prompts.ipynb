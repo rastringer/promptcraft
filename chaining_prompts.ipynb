{
  "cells": [
    {
      "cell_type": "markdown",
      "id": "99351d6c",
      "metadata": {
        "colab_type": "text",
        "id": "view-in-github"
      },
      "source": [
        "<a href=\"https://colab.research.google.com/github/rastringer/promptcraft/blob/main/chaining_prompts.ipynb\" target=\"_parent\"><img src=\"https://colab.research.google.com/assets/colab-badge.svg\" alt=\"Open In Colab\"/></a>"
      ]
    },
    {
      "cell_type": "markdown",
      "id": "c2e3447d",
      "metadata": {
        "id": "c2e3447d"
      },
      "source": [
        "## Chaining prompts and evaluation\n",
        "\n",
        "Chaining inputs and outputs, evaluating responses."
      ]
    },
    {
      "cell_type": "code",
      "execution_count": null,
      "id": "KnaRk0aV_-hO",
      "metadata": {
        "id": "KnaRk0aV_-hO"
      },
      "outputs": [],
      "source": [
        "# Install the packages\n",
        "! pip install --upgrade google-cloud-aiplatform\n",
        "! pip install shapely<2.0.0"
      ]
    },
    {
      "cell_type": "code",
      "execution_count": null,
      "id": "9GsOeGZjABKc",
      "metadata": {
        "id": "9GsOeGZjABKc"
      },
      "outputs": [],
      "source": [
        "# Automatically restart kernel after installs so that your environment can access the new packages\n",
        "import IPython\n",
        "\n",
        "app = IPython.Application.instance()\n",
        "app.kernel.do_shutdown(True)"
      ]
    },
    {
      "cell_type": "markdown",
      "id": "0091caba",
      "metadata": {
        "id": "0091caba"
      },
      "source": [
        "If you're on Colab, run the following cell to authenticate"
      ]
    },
    {
      "cell_type": "code",
      "execution_count": null,
      "id": "44d0a0c1",
      "metadata": {
        "id": "44d0a0c1"
      },
      "outputs": [],
      "source": [
        "from google.colab import auth\n",
        "auth.authenticate_user()"
      ]
    },
    {
      "cell_type": "code",
      "execution_count": null,
      "id": "7edb1a52",
      "metadata": {
        "id": "7edb1a52"
      },
      "outputs": [],
      "source": [
        "import vertexai\n",
        "from vertexai.preview.language_models import ChatModel, InputOutputTextPair\n",
        "\n",
        "# Replace the project and location placeholder values below\n",
        "vertexai.init(project=\"<..>\", location=\"<..>\")\n",
        "chat_model = ChatModel.from_pretrained(\"chat-bison@001\")\n",
        "parameters = {\n",
        "    \"temperature\": 0.2,\n",
        "    \"max_output_tokens\": 256,\n",
        "    \"top_p\": 0.8,\n",
        "    \"top_k\": 40\n",
        "}"
      ]
    },
    {
      "cell_type": "markdown",
      "id": "76c32333",
      "metadata": {
        "id": "76c32333"
      },
      "source": [
        "We will switch to a json file soon. For now, here's our `products` text again."
      ]
    },
    {
      "cell_type": "code",
      "execution_count": null,
      "id": "98281cb0",
      "metadata": {
        "id": "98281cb0"
      },
      "outputs": [],
      "source": [
        "products = \"\"\"\n",
        "name: Caffeino Classic\n",
        "category: Espresso Machines\n",
        "brand: EliteBrew\n",
        "model_number: EB-1001\n",
        "warranty: 2 years\n",
        "rating: 4.6/5 stars\n",
        "features:\n",
        "  15-bar pump for authentic espresso extraction.\n",
        "  Milk frother for creating creamy cappuccinos and lattes.\n",
        "  Removable water reservoir for easy refilling.\n",
        "description: The Caffeino Classic by EliteBrew is a powerful espresso machine that delivers rich and flavorful shots of espresso with the convenience of a built-in milk frother, perfect for indulging in your favorite cafe-style beverages at home.\n",
        "price: £179.99\n",
        "\n",
        "name: BeanPresso\n",
        "category: Single Serve Coffee Makers\n",
        "brand: FreshBrew\n",
        "model_number: FB-500\n",
        "warranty: 1 year\n",
        "rating: 4.3/5 stars\n",
        "features:\n",
        "  Compact design ideal for small spaces or travel.\n",
        "  Compatible with various coffee pods for quick and easy brewing.\n",
        "  Auto-off feature for energy efficiency and safety.\n",
        "description: The BeanPresso by FreshBrew is a compact single-serve coffee maker that allows you to enjoy a fresh cup of coffee effortlessly using your favorite coffee pods, making it the perfect companion for those with limited space or always on the go.\n",
        "price: £49.99\n",
        "\n",
        "name: BrewBlend Pro\n",
        "category: Drip Coffee Makers\n",
        "brand: MasterRoast\n",
        "model_number: MR-800\n",
        "warranty: 3 years\n",
        "rating: 4.7/5 stars\n",
        "features:\n",
        "  Adjustable brew strength for customized coffee flavor.\n",
        "  Large LCD display with programmable timer for convenient brewing.\n",
        "  Anti-drip system to prevent messes on the warming plate.\n",
        "description: The BrewBlend Pro by MasterRoast offers a superior brewing experience with adjustable brew strength, programmable timer, and anti-drip system, ensuring a perfectly brewed cup of coffee every time, making mornings more enjoyable.\n",
        "price: £89.99\n",
        "\n",
        "name: SteamGenie\n",
        "category: Stovetop Coffee Makers\n",
        "brand: KitchenWiz\n",
        "model_number: KW-200\n",
        "warranty: 2 years\n",
        "rating: 4.4/5 stars\n",
        "features:\n",
        "  Classic Italian stovetop design for rich and aromatic coffee.\n",
        "  Durable stainless steel construction for long-lasting performance.\n",
        "  Available in multiple sizes to suit different brewing needs.\n",
        "description: The SteamGenie by KitchenWiz is a traditional stovetop coffee maker that harnesses the essence of Italian coffee culture, crafted with durable stainless steel and delivering a rich, authentic coffee experience with every brew.\n",
        "price: £39.99\n",
        "\n",
        "name: AeroBlend Max\n",
        "category: Coffee and Espresso Combo Machines\n",
        "brand: AeroGen\n",
        "model_number: AG-1200\n",
        "warranty: 2 years\n",
        "rating: 4.9/5 stars\n",
        "features:\n",
        "  Dual-functionality for brewing coffee and espresso.\n",
        "  Built-in burr grinder for fresh coffee grounds.\n",
        "  Adjustable temperature and brew strength settings for personalized beverages.\n",
        "description: The AeroBlend Max by AeroGen is a versatile coffee and espresso combo machine that combines the convenience of brewing both coffee and espresso with a built-in grinder,\n",
        "allowing you to enjoy the perfect cup of your preferred caffeinated delight with ease.\n",
        "price: £299.99\n",
        "\"\"\""
      ]
    },
    {
      "cell_type": "markdown",
      "id": "be84c5cb",
      "metadata": {
        "id": "be84c5cb"
      },
      "source": [
        "As in earlier notebooks, delimiters help us isolate the inputs and responses.\n",
        "\n",
        "Here, we give the model specific to output recommendations as a python dictionary, which will help with post-processing tasks (eg adding to a shopping cart).\n",
        "\n",
        "We also give clear guidelines about the products and categories the model can return. This helps minimize the risk of the model hallucinating coffee machines not part of our catalogue."
      ]
    },
    {
      "cell_type": "code",
      "execution_count": null,
      "id": "b6b56a35",
      "metadata": {
        "id": "b6b56a35"
      },
      "outputs": [],
      "source": [
        "delimiter = \"####\"\n",
        "context = f\"\"\"\n",
        "You will be provided with customer service queries. \\\n",
        "The customer service query will be delimited with \\\n",
        "{delimiter} characters.\n",
        "Output a python dictionary of objects, where each object has \\\n",
        "the following format:\n",
        "    'category': <one of Espresso Machines, \\\n",
        "    Single Serve Coffee Makers, \\\n",
        "    Drip Coffee Makers, \\\n",
        "    Stovetop Coffee Makers,\n",
        "    Coffee and Espresso Combo Machines>,\n",
        "AND\n",
        "    'products': <a list of products that must \\\n",
        "    be found in the allowed products below>\n",
        "\n",
        "For example,\n",
        "  'category': 'Coffee and Espresso Combo Machines', 'products': ['AeroBlend Max'],\n",
        "\n",
        "Where the categories and products must be found in \\\n",
        "the customer service query.\n",
        "If a product is mentioned, it must be associated with \\\n",
        "the correct category in the allowed products list below.\n",
        "If no products or categories are found, output an \\\n",
        "empty list.\n",
        "\n",
        "Allowed products:\n",
        "\n",
        "Espresso Machines category:\n",
        "Caffeino Classic\n",
        "\n",
        "Single Serve Coffee Makers:\n",
        "BeanPresso\n",
        "\n",
        "Drip Coffee Makers:\n",
        "BrewBlend Pro\n",
        "\n",
        "Stovetop Coffee Makers:\n",
        "SteamGenie\n",
        "\n",
        "Coffee and Espresso Combo Machines:\n",
        "AeroBlend Max\n",
        "\n",
        "Only output the list of objects, with nothing else.\n",
        "\"\"\"\n"
      ]
    },
    {
      "cell_type": "code",
      "execution_count": null,
      "id": "2fcdb260",
      "metadata": {
        "id": "2fcdb260"
      },
      "outputs": [],
      "source": [
        "user_message_1 = f\"\"\"\n",
        "I'd like info about the SteamGenie and the BrewBlend Pro. \\\n",
        "\"\"\"\n",
        "\n",
        "chat = chat_model.start_chat(\n",
        "    context=context,\n",
        "    examples=[]\n",
        ")\n",
        "\n",
        "response = chat.send_message(user_message_1, **parameters)\n",
        "print(response.text)"
      ]
    },
    {
      "cell_type": "markdown",
      "id": "cea8e182",
      "metadata": {
        "id": "cea8e182"
      },
      "source": [
        "Though it looks like a Python dictionary, our response is a TextGenerationResponse object, so we have a few more steps to convert it into a dict we can use."
      ]
    },
    {
      "cell_type": "code",
      "execution_count": null,
      "id": "8e6fe8bb",
      "metadata": {
        "id": "8e6fe8bb"
      },
      "outputs": [],
      "source": [
        "type(response)"
      ]
    },
    {
      "cell_type": "code",
      "execution_count": null,
      "id": "2beceff6",
      "metadata": {
        "id": "2beceff6"
      },
      "outputs": [],
      "source": [
        "temp_str = str(response)"
      ]
    },
    {
      "cell_type": "code",
      "execution_count": null,
      "id": "cd81e79a",
      "metadata": {
        "id": "cd81e79a"
      },
      "outputs": [],
      "source": [
        "temp_str"
      ]
    },
    {
      "cell_type": "markdown",
      "id": "633d7956",
      "metadata": {
        "id": "633d7956"
      },
      "source": [
        "### Products json\n",
        "\n",
        "Switching from our products string to json will allow us to do more with results"
      ]
    },
    {
      "cell_type": "code",
      "execution_count": null,
      "id": "918e8783",
      "metadata": {
        "id": "918e8783"
      },
      "outputs": [],
      "source": [
        "products = {\n",
        "    \"Caffeino Classic\": {\n",
        "      \"name\": \"Caffeino Classic\",\n",
        "      \"category\": \"Espresso Machines\",\n",
        "      \"brand\": \"EliteBrew\",\n",
        "      \"model_number\": \"EB-1001\",\n",
        "      \"warranty\": \"2 years\",\n",
        "      \"rating\": \"4.6/5 stars\",\n",
        "      \"features\": [\n",
        "        \"15-bar pump for authentic espresso extraction.\",\n",
        "        \"Milk frother for creating creamy cappuccinos and lattes.\",\n",
        "        \"Removable water reservoir for easy refilling.\"\n",
        "      ],\n",
        "      \"description\": \"The Caffeino Classic by EliteBrew is a powerful espresso machine that delivers rich and flavorful shots of espresso with the convenience of a built-in milk frother, perfect for indulging in your favorite cafe-style beverages at home.\",\n",
        "      \"price\": \"£179.99\"\n",
        "    },\n",
        "    \"BeanPresso\": {\n",
        "      \"name\": \"BeanPresso\",\n",
        "      \"category\": \"Single Serve Coffee Makers\",\n",
        "      \"brand\": \"FreshBrew\",\n",
        "      \"model_number\": \"FB-500\",\n",
        "      \"warranty\": \"1 year\",\n",
        "      \"rating\": \"4.3/5 stars\",\n",
        "      \"features\": [\n",
        "        \"Compact design ideal for small spaces or travel.\",\n",
        "        \"Compatible with various coffee pods for quick and easy brewing.\",\n",
        "        \"Auto-off feature for energy efficiency and safety.\"\n",
        "      ],\n",
        "      \"description\": \"The BeanPresso by FreshBrew is a compact single-serve coffee maker that allows you to enjoy a fresh cup of coffee effortlessly using your favorite coffee pods, making it the perfect companion for those with limited space or always on the go.\",\n",
        "      \"price\": \"£49.99\"\n",
        "    },\n",
        "    \"BrewBlend Pro\": {\n",
        "      \"name\": \"BrewBlend Pro\",\n",
        "      \"category\": \"Drip Coffee Makers\",\n",
        "      \"brand\": \"MasterRoast\",\n",
        "      \"model_number\": \"MR-800\",\n",
        "      \"warranty\": \"3 years\",\n",
        "      \"rating\": \"4.7/5 stars\",\n",
        "      \"features\": [\n",
        "        \"Adjustable brew strength for customized coffee flavor.\",\n",
        "        \"Large LCD display with programmable timer for convenient brewing.\",\n",
        "        \"Anti-drip system to prevent messes on the warming plate.\"\n",
        "      ],\n",
        "      \"description\": \"The BrewBlend Pro by MasterRoast offers a superior brewing experience with adjustable brew strength, programmable timer, and anti-drip system, ensuring a perfectly brewed cup of coffee every time, making mornings more enjoyable.\",\n",
        "      \"price\": \"£89.99\"\n",
        "    },\n",
        "    \"SteamGenie\": {\n",
        "      \"name\": \"SteamGenie\",\n",
        "      \"category\": \"Stovetop Coffee Makers\",\n",
        "      \"brand\": \"KitchenWiz\",\n",
        "      \"model_number\": \"KW-200\",\n",
        "      \"warranty\": \"2 years\",\n",
        "      \"rating\": \"4.4/5 stars\",\n",
        "      \"features\": [\n",
        "        \"Classic Italian stovetop design for rich and aromatic coffee.\",\n",
        "        \"Durable stainless steel construction for long-lasting performance.\",\n",
        "        \"Available in multiple sizes to suit different brewing needs.\"\n",
        "      ],\n",
        "      \"description\": \"The SteamGenie by KitchenWiz is a traditional stovetop coffee maker that harnesses the essence of Italian coffee culture, crafted with durable stainless steel and delivering a rich, authentic coffee experience with every brew.\",\n",
        "      \"price\": \"£39.99\"\n",
        "    },\n",
        "    \"AeroBlend Max\": {\n",
        "      \"name\": \"AeroBlend Max\",\n",
        "      \"category\": \"Coffee and Espresso Combo Machines\",\n",
        "      \"brand\": \"AeroGen\",\n",
        "      \"model_number\": \"AG-1200\",\n",
        "      \"warranty\": \"2 years\",\n",
        "      \"rating\": \"4.9/5 stars\",\n",
        "      \"features\": [\n",
        "        \"Dual-functionality for brewing coffee and espresso.\",\n",
        "        \"Built-in burr grinder for fresh coffee grounds.\",\n",
        "        \"Adjustable temperature and brew strength settings for personalized beverages.\"\n",
        "      ],\n",
        "      \"description\": \"The AeroBlend Max by AeroGen is a versatile coffee and espresso combo machine that combines the convenience of brewing both coffee and espresso with a built-in grinder, allowing you to enjoy the perfect cup of your preferred caffeinated delight with ease.\",\n",
        "      \"price\": \"£299.99\"\n",
        "    }\n",
        "}"
      ]
    },
    {
      "cell_type": "code",
      "execution_count": null,
      "id": "e6989d57",
      "metadata": {
        "id": "e6989d57"
      },
      "outputs": [],
      "source": [
        "def get_products():\n",
        "    return products"
      ]
    },
    {
      "cell_type": "markdown",
      "id": "1406e0f9",
      "metadata": {
        "id": "1406e0f9"
      },
      "source": [
        "### Read Python string into Python list of dictionaries"
      ]
    },
    {
      "cell_type": "code",
      "execution_count": null,
      "id": "2cec3c46",
      "metadata": {
        "id": "2cec3c46"
      },
      "outputs": [],
      "source": [
        "import json\n",
        "\n",
        "def read_string_to_list(input_string):\n",
        "    if input_string is None:\n",
        "        return None\n",
        "\n",
        "    try:\n",
        "        input_string = input_string.replace(\"'\", \"\\\"\")  # Replace single quotes with double quotes for valid JSON\n",
        "        data = json.loads(input_string)\n",
        "        return data\n",
        "    except json.JSONDecodeError:\n",
        "        print(\"Error: Invalid JSON string\")\n",
        "        return None"
      ]
    },
    {
      "cell_type": "code",
      "execution_count": null,
      "id": "a53d26d8",
      "metadata": {
        "id": "a53d26d8"
      },
      "outputs": [],
      "source": [
        "category_and_product_list = read_string_to_list(temp_str)\n",
        "print(category_and_product_list)"
      ]
    },
    {
      "cell_type": "markdown",
      "id": "423a4ec0",
      "metadata": {
        "id": "423a4ec0"
      },
      "source": [
        "### Helper functions\n",
        "\n",
        "Now that our products are in json, we can use various helper functions to render responses into a format more useful than text. For example, we can check the model's outputs are relevant, or pass the items and their details on to a shopping cart.\n",
        "\n",
        "#### Note:\n",
        "\n",
        "These helper functions are from DeepLearning AI's *Building Systems with the ChatGPT API* course."
      ]
    },
    {
      "cell_type": "code",
      "execution_count": null,
      "id": "33e27b3b",
      "metadata": {
        "id": "33e27b3b"
      },
      "outputs": [],
      "source": [
        "def get_product_by_name(name):\n",
        "    return products.get(name, None)\n",
        "\n",
        "def get_products_by_category(category):\n",
        "    return [product for product in products.values() if product[\"category\"] == category]"
      ]
    },
    {
      "cell_type": "code",
      "execution_count": null,
      "id": "20509a33",
      "metadata": {
        "id": "20509a33"
      },
      "outputs": [],
      "source": [
        "def generate_output_string(data_list):\n",
        "    output_string = \"\"\n",
        "\n",
        "    if data_list is None:\n",
        "        return output_string\n",
        "\n",
        "    for data in data_list:\n",
        "        try:\n",
        "            if \"products\" in data:\n",
        "                products_list = data[\"products\"]\n",
        "                for product_name in products_list:\n",
        "                    product = get_product_by_name(product_name)\n",
        "                    if product:\n",
        "                        output_string += json.dumps(product, indent=4) + \"\\n\"\n",
        "                    else:\n",
        "                        print(f\"Error: Product '{product_name}' not found\")\n",
        "            elif \"category\" in data:\n",
        "                category_name = data[\"category\"]\n",
        "                category_products = get_products_by_category(category_name)\n",
        "                for product in category_products:\n",
        "                    output_string += json.dumps(product, indent=4) + \"\\n\"\n",
        "            else:\n",
        "                print(\"Error: Invalid object format\")\n",
        "        except Exception as e:\n",
        "            print(f\"Error: {e}\")\n",
        "\n",
        "    return output_string"
      ]
    },
    {
      "cell_type": "code",
      "execution_count": null,
      "id": "9a0a5efd",
      "metadata": {
        "id": "9a0a5efd"
      },
      "outputs": [],
      "source": [
        "product_information_for_user_message_1 = generate_output_string(category_and_product_list)\n",
        "print(product_information_for_user_message_1)"
      ]
    },
    {
      "cell_type": "code",
      "execution_count": null,
      "id": "817a6f0d",
      "metadata": {
        "id": "817a6f0d"
      },
      "outputs": [],
      "source": [
        "context = f\"\"\"\n",
        "You're a customer service assistant for a coffee shop's \\\n",
        "e-commerce site. Our product list can be found in {products}. Respond in a friendly and professional \\\n",
        "tone with concise answers. \\\n",
        "Please ask the user relevant follow-up questions.\n",
        "\"\"\"\n",
        "\n",
        "user_message_1 = f\"\"\"\n",
        "Tell me about the Brew Blend pro and \\\n",
        "the stovetop coffee maker. \\\n",
        "Also do you have an espresso machine?\"\"\"\n",
        "\n",
        "chat = chat_model.start_chat(\n",
        "    context=context,\n",
        "    examples=[]\n",
        ")\n",
        "\n",
        "assistant_response = chat.send_message(f\"\"\"{user_message_1}{product_information_for_user_message_1}\"\"\", **parameters)\n",
        "print(assistant_response)"
      ]
    },
    {
      "cell_type": "markdown",
      "id": "552cd3aa",
      "metadata": {
        "id": "552cd3aa"
      },
      "source": [
        "### Check output\n",
        "\n",
        "Now that we have our outputs as handly lists and strings, we can add them as inputs for the model to check. This step will become less necessary as models become more sophisticated, and is only recommended for extremely highly sensitive applications since adds cost and latency and may be unnecessary"
      ]
    },
    {
      "cell_type": "code",
      "execution_count": null,
      "id": "1ac98314",
      "metadata": {
        "id": "1ac98314"
      },
      "outputs": [],
      "source": [
        "context = f\"\"\"\n",
        "You are an assistant that evaluates whether \\\n",
        "customer service agent responses sufficiently \\\n",
        "answer customer questions, and also validates that \\\n",
        "all the facts the assistant cites from the product \\\n",
        "information are correct.\n",
        "The product information and user and customer \\\n",
        "service agent messages will be delimited by \\\n",
        "3 backticks, i.e. ```.\n",
        "Respond with a Y or N character, with no punctuation:\n",
        "Y - if the output sufficiently answers the question \\\n",
        "AND the response correctly uses product information\n",
        "N - otherwise\n",
        "\n",
        "Output a single letter only.\n",
        "\"\"\"\n",
        "customer_message = f\"\"\"\n",
        "Tell me all about the Brew Blend pro and \\\n",
        "the stovetop coffee maker - features and pricing. \\\n",
        "Also do you have an espresso machine?\"\"\"\n",
        "\n",
        "q_a_pair = f\"\"\"\n",
        "Customer message: ```{customer_message}```\n",
        "Product information: ```{product_information_for_user_message_1}```\n",
        "Agent response: ```{assistant_response}```\n",
        "\n",
        "Does the response use the retrieved information correctly?\n",
        "Does the response sufficiently answer the question\n",
        "\n",
        "Output Y or N\n",
        "\"\"\"\n",
        "\n",
        "chat = chat_model.start_chat(\n",
        "    context=context,\n",
        "    examples=[]\n",
        ")\n",
        "\n",
        "response = chat.send_message(f\"\"\"{q_a_pair}\"\"\")\n",
        "print(response)"
      ]
    },
    {
      "cell_type": "code",
      "execution_count": null,
      "id": "hEyRZEpT87HK",
      "metadata": {
        "id": "hEyRZEpT87HK"
      },
      "outputs": [],
      "source": [
        "product_info_for_user_message_1 = generate_output_string(category_and_product_list)\n",
        "print(product_info_for_user_message_1)"
      ]
    },
    {
      "cell_type": "markdown",
      "id": "0Tr65ktw8L8r",
      "metadata": {
        "id": "0Tr65ktw8L8r"
      },
      "source": [
        "### Evaluation\n"
      ]
    },
    {
      "cell_type": "code",
      "execution_count": null,
      "id": "Kd84mVeU8G3U",
      "metadata": {
        "id": "Kd84mVeU8G3U"
      },
      "outputs": [],
      "source": [
        "def eval_with_rubric(customer_message, assistant_response):\n",
        "\n",
        "    customer_message = f\"\"\"\n",
        "    Tell me all about the Brew Blend pro and \\\n",
        "    the stovetop coffee maker - features and pricing. \\\n",
        "    I'm also interested in an espresso machine.\"\"\"\n",
        "\n",
        "    context = \"\"\"\\\n",
        "    You are an assistant that evaluates how well the customer service agent \\\n",
        "    answers a user question by looking at the context that the customer service \\\n",
        "    agent is using to generate its response.\n",
        "    Compare the factual content of the submitted answer with the context. \\\n",
        "    Ignore any differences in style, grammar, or punctuation.\n",
        "    Answer the following questions:\n",
        "        - Is the Assistant response based only on the context provided? (Y or N)\n",
        "        - Does the answer include information that is not provided in the context? (Y or N)\n",
        "        - Is there any disagreement between the response and the context? (Y or N)\n",
        "        - Count how many questions the user asked. (output a number)\n",
        "        - For each question that the user asked, is there a corresponding answer to it?\n",
        "          Question 1: (Y or N)\n",
        "          Question 2: (Y or N)\n",
        "          ...\n",
        "          Question N: (Y or N)\n",
        "        - Of the number of questions asked, how many of these questions were addressed by the answer? (output a number)\n",
        "    \"\"\"\n",
        "\n",
        "    user_message = f\"\"\"\\\n",
        "    You are evaluating a submitted answer to a question based on the context \\\n",
        "    that the agent uses to answer the question.\n",
        "    Here is the data:\n",
        "    [BEGIN DATA]\n",
        "    ************\n",
        "    [Question]: {customer_message}\n",
        "    ************\n",
        "    [Context]: {context}\n",
        "    ************\n",
        "    [Submission]: {assistant_response}\n",
        "    ************\n",
        "    [END DATA]\n",
        "\"\"\"\n",
        "    chat = chat_model.start_chat(\n",
        "    context=context,\n",
        "    examples=[]\n",
        "    )\n",
        "\n",
        "    response = chat.send_message(user_message, max_output_tokens=1024)\n",
        "    return response"
      ]
    },
    {
      "cell_type": "code",
      "execution_count": null,
      "id": "CxPIrO_D8bsJ",
      "metadata": {
        "id": "CxPIrO_D8bsJ"
      },
      "outputs": [],
      "source": [
        "product_info = product_info_for_user_message_1\n",
        "\n",
        "customer_product_info = {\n",
        "    \"customer_message\": customer_message,\n",
        "    \"context\": product_info\n",
        "}\n",
        "eval_output = eval_with_rubric(customer_product_info, assistant_response)\n",
        "\n",
        "print(eval_output)"
      ]
    },
    {
      "cell_type": "markdown",
      "id": "4IRxa0Z19ICv",
      "metadata": {
        "id": "4IRxa0Z19ICv"
      },
      "source": [
        "### Evaluate based on an expert human answer\n",
        "We can write our own example of what an excellent human answer would be, then ask the model to compare its responses with our example."
      ]
    },
    {
      "cell_type": "code",
      "execution_count": null,
      "id": "-hVYDykU8fPi",
      "metadata": {
        "id": "-hVYDykU8fPi"
      },
      "outputs": [],
      "source": [
        "ideal_example = {\n",
        "    'customer_message': \"\"\"\\\n",
        "    Tell me all about the Brew Blend pro and \\\n",
        "    the stovetop coffee maker - features and pricing. \\\n",
        "    I'm also interested in an espresso machine?\"\"\",\n",
        "\n",
        "    'ideal_answer': \"\"\"\\\n",
        "    The BrewBlend pro is a powerhouse of a drip coffee maker. \\\n",
        "    It offers a superior brewing experience with adjustable \\\n",
        "    brew strength, and anti-drip system. \\\n",
        "    Love your coffee first thing when you wake up? Just set the programmable \\\n",
        "    timer. It's priced at 389.99. \\\n",
        "    The stovetop option is the SteamGenie, a coffee maker crafted with \\\n",
        "    durable stainless steel. The SteamGenie delivers a rich, strong and authentic \\\n",
        "    coffee experience with every brew. \\\n",
        "    We do have an espresso machine, the Caffeino Classic. It's a 15-bar \\\n",
        "    pump for authentic espresso extraction, wiht a milk frother and \\\n",
        "    water reservoir for easy refiling. It costs 179.99.\n",
        "    \"\"\"\n",
        "}"
      ]
    },
    {
      "cell_type": "markdown",
      "id": "mDEZHycM9PN6",
      "metadata": {
        "id": "mDEZHycM9PN6"
      },
      "source": [
        "### Evals\n",
        "\n",
        "There are scoring systems such as Bleu that researchers have used to check model performance for language tasks. Another approach is to use OpenAI's evals framework, from which the following grading criteria are used.\n",
        "\n",
        "Let's look at our `assistant_response` again:"
      ]
    },
    {
      "cell_type": "code",
      "execution_count": null,
      "id": "jR4X7pwG9kz3",
      "metadata": {
        "id": "jR4X7pwG9kz3"
      },
      "outputs": [],
      "source": [
        "assistant_response"
      ]
    },
    {
      "cell_type": "code",
      "execution_count": null,
      "id": "C3jpwr3T9Kcb",
      "metadata": {
        "id": "C3jpwr3T9Kcb"
      },
      "outputs": [],
      "source": [
        "def eval_vs_ideal(ideal_example, assistant_response):\n",
        "\n",
        "    customer_message = ideal_example['customer_message']\n",
        "    ideal_answer = ideal_example['ideal_answer']\n",
        "    completion = assistant_response\n",
        "\n",
        "    context = \"\"\"\\\n",
        "    You are an assistant that evaluates how well the customer service agent \\\n",
        "    answers a user question by comparing the response to the ideal (expert) response\n",
        "    Output a single letter and nothing else.\n",
        "    Compare the factual content of the submitted answer with the expert answer. Ignore any differences in style, grammar, or punctuation.\n",
        "    The submitted answer may either be a subset or superset of the expert answer, or it may conflict with it. Determine which case applies. Answer the question by selecting one of the following options:\n",
        "    (A) The submitted answer is a subset of the expert answer and is fully consistent with it.\n",
        "    (B) The submitted answer is a superset of the expert answer and is fully consistent with it.\n",
        "    (C) The submitted answer contains all the same details as the expert answer.\n",
        "    (D) There is a disagreement between the submitted answer and the expert answer.\n",
        "    (E) The answers differ, but these differences don't matter from the perspective of factuality.\n",
        "  choice_strings: ABCDE\n",
        "    \"\"\"\n",
        "\n",
        "    user_message = f\"\"\"\\\n",
        "You are comparing a submitted answer to an expert answer on a given question. Here is the data:\n",
        "    [BEGIN DATA]\n",
        "    ************\n",
        "    [Question]: {customer_message}\n",
        "    ************\n",
        "    [Expert]: {ideal_answer}\n",
        "    ************\n",
        "    [Submission]: {completion}\n",
        "    ************\n",
        "    [END DATA]\n",
        "\"\"\"\n",
        "\n",
        "    chat = chat_model.start_chat(\n",
        "    context=context,\n",
        "    examples=[]\n",
        "    )\n",
        "\n",
        "    response = chat.send_message(user_message, max_output_tokens=1024)\n",
        "    return response"
      ]
    },
    {
      "cell_type": "code",
      "execution_count": null,
      "id": "EG6aGV4-9SMP",
      "metadata": {
        "id": "EG6aGV4-9SMP"
      },
      "outputs": [],
      "source": [
        "eval_vs_ideal(ideal_example, assistant_response)"
      ]
    },
    {
      "cell_type": "markdown",
      "id": "R_zzl7nn91RY",
      "metadata": {
        "id": "R_zzl7nn91RY"
      },
      "source": [
        "We will look at further evaluation metrics in part 12."
      ]
    }
  ],
  "metadata": {
    "colab": {
      "include_colab_link": true,
      "provenance": []
    },
    "kernelspec": {
      "display_name": "Python 3 (ipykernel)",
      "language": "python",
      "name": "python3"
    },
    "language_info": {
      "codemirror_mode": {
        "name": "ipython",
        "version": 3
      },
      "file_extension": ".py",
      "mimetype": "text/x-python",
      "name": "python",
      "nbconvert_exporter": "python",
      "pygments_lexer": "ipython3",
      "version": "3.8.2"
    }
  },
  "nbformat": 4,
  "nbformat_minor": 5
}
