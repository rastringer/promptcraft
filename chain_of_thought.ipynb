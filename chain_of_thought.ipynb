{
  "cells": [
    {
      "cell_type": "markdown",
      "id": "7e003764",
      "metadata": {
        "id": "7e003764"
      },
      "source": [
        "## Chain-of-thought-prompting\n",
        "\n",
        "In this notebook, we will explore how we can ask the chat model to show us its conclusions in a multi-step process. Such operations would typically be masked from the user and serve to help developers test the chat application.\n",
        "\n",
        "[![Open in Colab](https://colab.research.google.com/assets/colab-badge.svg)](https://colab.research.google.com/github/rastringer/building_apps_with_genai_studio/blob/main/2_chain_of_thought.ipynb)"
      ]
    },
    {
      "cell_type": "code",
      "execution_count": null,
      "id": "69d259b2",
      "metadata": {
        "id": "69d259b2"
      },
      "outputs": [],
      "source": [
        "# !pip install \"shapely<2.0.0\"\n",
        "# !pip install google-cloud-aiplatform"
      ]
    },
    {
      "cell_type": "markdown",
      "id": "380e4532",
      "metadata": {
        "id": "380e4532"
      },
      "source": [
        "If you're on Colab, run the following cell to authenticate"
      ]
    },
    {
      "cell_type": "code",
      "execution_count": null,
      "id": "ff6bde07",
      "metadata": {
        "id": "ff6bde07"
      },
      "outputs": [],
      "source": [
        "# from google.colab import auth\n",
        "# auth.authenticate_user()"
      ]
    },
    {
      "cell_type": "code",
      "execution_count": null,
      "id": "2e34aa2b",
      "metadata": {
        "id": "2e34aa2b"
      },
      "outputs": [],
      "source": [
        "from google.cloud import aiplatform as vertexai"
      ]
    },
    {
      "cell_type": "code",
      "execution_count": null,
      "id": "ea097a70",
      "metadata": {
        "id": "ea097a70"
      },
      "outputs": [],
      "source": [
        "import vertexai\n",
        "from vertexai.preview.language_models import ChatModel, InputOutputTextPair\n",
        "\n",
        "# Replace the project and location placeholder values below\n",
        "vertexai.init(project=\"<your-project-id>\", location=\"<location>\")\n",
        "chat_model = ChatModel.from_pretrained(\"chat-bison@001\")\n",
        "parameters = {\n",
        "    \"temperature\": 0.2,\n",
        "    \"max_output_tokens\": 256,\n",
        "    \"top_p\": 0.8,\n",
        "    \"top_k\": 40\n",
        "}"
      ]
    },
    {
      "cell_type": "code",
      "execution_count": null,
      "id": "8dc72204",
      "metadata": {
        "id": "8dc72204"
      },
      "outputs": [],
      "source": [
        "products = \"\"\"\n",
        "name: Caffeino Classic\n",
        "category: Espresso Machines\n",
        "brand: EliteBrew\n",
        "model_number: EB-1001\n",
        "warranty: 2 years\n",
        "rating: 4.6/5 stars\n",
        "features:\n",
        "  15-bar pump for authentic espresso extraction.\n",
        "  Milk frother for creating creamy cappuccinos and lattes.\n",
        "  Removable water reservoir for easy refilling.\n",
        "description: The Caffeino Classic by EliteBrew is a powerful espresso machine that delivers rich and flavorful shots of espresso with the convenience of a built-in milk frother, perfect for indulging in your favorite cafe-style beverages at home.\n",
        "price: £179.99\n",
        "\n",
        "name: BeanPresso\n",
        "category: Single Serve Coffee Makers\n",
        "brand: FreshBrew\n",
        "model_number: FB-500\n",
        "warranty: 1 year\n",
        "rating: 4.3/5 stars\n",
        "features:\n",
        "  Compact design ideal for small spaces or travel.\n",
        "  Compatible with various coffee pods for quick and easy brewing.\n",
        "  Auto-off feature for energy efficiency and safety.\n",
        "description: The BeanPresso by FreshBrew is a compact single-serve coffee maker that allows you to enjoy a fresh cup of coffee effortlessly using your favorite coffee pods, making it the perfect companion for those with limited space or always on the go.\n",
        "price: £49.99\n",
        "\n",
        "name: BrewBlend Pro\n",
        "category: Drip Coffee Makers\n",
        "brand: MasterRoast\n",
        "model_number: MR-800\n",
        "warranty: 3 years\n",
        "rating: 4.7/5 stars\n",
        "features:\n",
        "  Adjustable brew strength for customized coffee flavor.\n",
        "  Large LCD display with programmable timer for convenient brewing.\n",
        "  Anti-drip system to prevent messes on the warming plate.\n",
        "description: The BrewBlend Pro by MasterRoast offers a superior brewing experience with adjustable brew strength, programmable timer, and anti-drip system, ensuring a perfectly brewed cup of coffee every time, making mornings more enjoyable.\n",
        "price: £89.99\n",
        "\n",
        "name: SteamGenie\n",
        "category: Stovetop Coffee Makers\n",
        "brand: KitchenWiz\n",
        "model_number: KW-200\n",
        "warranty: 2 years\n",
        "rating: 4.4/5 stars\n",
        "features:\n",
        "  Classic Italian stovetop design for rich and aromatic coffee.\n",
        "  Durable stainless steel construction for long-lasting performance.\n",
        "  Available in multiple sizes to suit different brewing needs.\n",
        "description: The SteamGenie by KitchenWiz is a traditional stovetop coffee maker that harnesses the essence of Italian coffee culture, crafted with durable stainless steel and delivering a rich, authentic coffee experience with every brew.\n",
        "price: £39.99\n",
        "\n",
        "name: AeroBlend Max\n",
        "category: Coffee and Espresso Combo Machines\n",
        "brand: AeroGen\n",
        "model_number: AG-1200\n",
        "warranty: 2 years\n",
        "rating: 4.9/5 stars\n",
        "features:\n",
        "  Dual-functionality for brewing coffee and espresso.\n",
        "  Built-in burr grinder for fresh coffee grounds.\n",
        "  Adjustable temperature and brew strength settings for personalized beverages.\n",
        "description: The AeroBlend Max by AeroGen is a versatile coffee and espresso combo machine that combines the convenience of brewing both coffee and espresso with a built-in grinder,\n",
        "allowing you to enjoy the perfect cup of your preferred caffeinated delight with ease.\n",
        "price: £299.99\n",
        "\"\"\""
      ]
    },
    {
      "cell_type": "code",
      "execution_count": null,
      "id": "af53a416",
      "metadata": {
        "id": "af53a416"
      },
      "outputs": [],
      "source": [
        "delimiter = \"####\"\n",
        "context = f\"\"\"\n",
        "Follow these steps to answer the customer queries.\n",
        "The customer query will be delimited with four hashtags,\\\n",
        "i.e. {delimiter}.\n",
        "\n",
        "Step 1:{delimiter} First decide whether the user is \\\n",
        "asking a question about a specific product or products. \\\n",
        "Product cateogry doesn't count.\n",
        "\n",
        "Step 2:{delimiter} If the user is asking about \\\n",
        "specific products, identify whether \\\n",
        "the products are in the following list.\n",
        "All available products:\n",
        "{products}\n",
        "\n",
        "Use the following format:\n",
        "Step 1:{delimiter} <step 1 reasoning>\n",
        "Step 2:{delimiter} <step 2 reasoning>\n",
        "Step 3:{delimiter} <step 3 reasoning>\n",
        "Step 4:{delimiter} <step 4 reasoning>\n",
        "Response to user:{delimiter} <response to customer>\n",
        "\n",
        "Make sure to include {delimiter} to separate every step.\n",
        "\"\"\""
      ]
    },
    {
      "cell_type": "code",
      "execution_count": null,
      "id": "18601be1",
      "metadata": {
        "id": "18601be1"
      },
      "outputs": [],
      "source": [
        "chat = chat_model.start_chat(\n",
        "    context=context,\n",
        "    examples=[]\n",
        ")\n",
        "\n",
        "user_message = f\"\"\"\n",
        "How much more expensive is the BrewBlend Pro vs the Caffeino Classic?\n",
        "\"\"\"\n",
        "response = chat.send_message(user_message, **parameters)\n",
        "print(response.text)"
      ]
    },
    {
      "cell_type": "markdown",
      "id": "06861c5e",
      "metadata": {
        "id": "06861c5e"
      },
      "source": [
        "The delimiters can help select different parts of the responses. We first, however, have to convert the object returned by the chat into a string."
      ]
    },
    {
      "cell_type": "code",
      "execution_count": null,
      "id": "95cf814b",
      "metadata": {
        "id": "95cf814b"
      },
      "outputs": [],
      "source": [
        "# Vertex returns a TextGenerationResponse\n",
        "type(response)"
      ]
    },
    {
      "cell_type": "code",
      "execution_count": null,
      "id": "3747c6cc",
      "metadata": {
        "id": "3747c6cc"
      },
      "outputs": [],
      "source": [
        "final_response = str(response)\n",
        "print(final_response)"
      ]
    },
    {
      "cell_type": "code",
      "execution_count": null,
      "id": "11259d42",
      "metadata": {
        "id": "11259d42"
      },
      "outputs": [],
      "source": [
        "try:\n",
        "    final_response = str(response).split(delimiter)[-1].strip()\n",
        "except Exception as e:\n",
        "    final_response = \"Sorry, I'm unsure of the answer, please try asking another.\"\n",
        "\n",
        "print(final_response)"
      ]
    }
  ],
  "metadata": {
    "kernelspec": {
      "display_name": "Python 3 (ipykernel)",
      "language": "python",
      "name": "python3"
    },
    "language_info": {
      "codemirror_mode": {
        "name": "ipython",
        "version": 3
      },
      "file_extension": ".py",
      "mimetype": "text/x-python",
      "name": "python",
      "nbconvert_exporter": "python",
      "pygments_lexer": "ipython3",
      "version": "3.8.2"
    },
    "colab": {
      "provenance": []
    }
  },
  "nbformat": 4,
  "nbformat_minor": 5
}