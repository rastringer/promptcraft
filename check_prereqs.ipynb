{
  "nbformat": 4,
  "nbformat_minor": 0,
  "metadata": {
    "colab": {
      "provenance": [],
      "authorship_tag": "ABX9TyMFBojXDl3dX1BT7BPRUW74",
      "include_colab_link": true
    },
    "kernelspec": {
      "name": "python3",
      "display_name": "Python 3"
    },
    "language_info": {
      "name": "python"
    }
  },
  "cells": [
    {
      "cell_type": "markdown",
      "metadata": {
        "id": "view-in-github",
        "colab_type": "text"
      },
      "source": [
        "<a href=\"https://colab.research.google.com/github/rastringer/promptcraft/blob/main/check_prereqs.ipynb\" target=\"_parent\"><img src=\"https://colab.research.google.com/assets/colab-badge.svg\" alt=\"Open In Colab\"/></a>"
      ]
    },
    {
      "cell_type": "markdown",
      "source": [
        "### On your marks!\n",
        "\n",
        "This short notebook will check the following prerequisites for the course are complete:\n",
        "\n",
        "* Authenticating to a Google Cloud account\n",
        "\n",
        "* Access to a GCP **project**\n",
        "\n",
        "* Vertex AI user IAM role permissions for the GCP account\n"
      ],
      "metadata": {
        "id": "2ii3ihksojvA"
      }
    },
    {
      "cell_type": "code",
      "source": [
        "! pip3 install --upgrade google-cloud-aiplatform\n",
        "! pip3 install shapely<2.0.0"
      ],
      "metadata": {
        "id": "A2k24lCDonBx"
      },
      "execution_count": null,
      "outputs": []
    },
    {
      "cell_type": "code",
      "source": [
        "# Automatically restart kernel to access the new packages\n",
        "import IPython\n",
        "\n",
        "app = IPython.Application.instance()\n",
        "app.kernel.do_shutdown(True)"
      ],
      "metadata": {
        "id": "OPxAFOghonE3"
      },
      "execution_count": null,
      "outputs": []
    },
    {
      "cell_type": "markdown",
      "source": [
        "On Vertex Workbench, you're already authenticated, so skip the next cell.\n",
        "\n",
        "If you're on Colab, authenticate:"
      ],
      "metadata": {
        "id": "hN7KknySjqov"
      }
    },
    {
      "cell_type": "code",
      "source": [
        "from google.colab import auth\n",
        "auth.authenticate_user()"
      ],
      "metadata": {
        "id": "4BrhaYTBor1M"
      },
      "execution_count": null,
      "outputs": []
    },
    {
      "cell_type": "markdown",
      "source": [
        "Add your `project id` and the `region`"
      ],
      "metadata": {
        "id": "s9X-2P34whCH"
      }
    },
    {
      "cell_type": "code",
      "source": [
        "PROJECT_ID = \"<your-project-id>\"\n",
        "REGION = \"<your-project-region>\""
      ],
      "metadata": {
        "id": "vm5mBUyEwPWW"
      },
      "execution_count": null,
      "outputs": []
    },
    {
      "cell_type": "code",
      "source": [
        "import vertexai\n",
        "from vertexai.preview.language_models import ChatModel, InputOutputTextPair\n",
        "\n",
        "# Initialize the Vertex SDK\n",
        "vertexai.init(project=PROJECT_ID, location=REGION)\n",
        "\n",
        "chat_model = ChatModel.from_pretrained(\"chat-bison@001\")\n",
        "chat = chat_model.start_chat(\n",
        "    context=\"\"\"system\"\"\",\n",
        "    examples=[]\n",
        ")\n",
        "response = chat.send_message(\"\"\"Write a haiku about LLMs\"\"\")\n",
        "print(response.text)"
      ],
      "metadata": {
        "id": "FJxfbeZPvplm"
      },
      "execution_count": null,
      "outputs": []
    },
    {
      "cell_type": "markdown",
      "source": [
        "If you see a short haiku from the model, you're ready to proceed."
      ],
      "metadata": {
        "id": "OgEpYCI_xwJM"
      }
    }
  ]
}